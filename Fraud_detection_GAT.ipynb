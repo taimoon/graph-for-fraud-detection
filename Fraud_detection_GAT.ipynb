{
  "cells": [
    {
      "attachments": {},
      "cell_type": "markdown",
      "metadata": {
        "id": "zLMuhq4yRJzr"
      },
      "source": [
        "# Tutorial: Fraud detection with Graph Attention Networks\n",
        "By Sing Kwan NG and Anthony TAING as part of the Stanford CS224W course project.\n",
        "In this tutorial we will show you the fraud detection use case (for a node classification task) on Bitcoin dataset  by using the first version of GAT model and the GATv2 (Graph Attention Network model version2) .We will implement it by using our customs layers with PyG and the buitin PyG layers."
      ]
    },
    {
      "attachments": {},
      "cell_type": "markdown",
      "metadata": {
        "id": "lWTFyFVZw1kO"
      },
      "source": [
        "# Setup\n"
      ]
    },
    {
      "cell_type": "code",
      "execution_count": 1,
      "metadata": {
        "id": "L4DDt8x8Oba4"
      },
      "outputs": [],
      "source": [
        "# for auto-reloading external modules\n",
        "%load_ext autoreload\n",
        "%autoreload 2"
      ]
    },
    {
      "cell_type": "code",
      "execution_count": 2,
      "metadata": {
        "colab": {
          "base_uri": "https://localhost:8080/"
        },
        "id": "9kjO_pOMKCSo",
        "outputId": "48bf170a-bf06-48c9-a490-85e6e627b3bf"
      },
      "outputs": [],
      "source": [
        "import os\n",
        "\n",
        "def unzip(location,**kwargs):\n",
        "    import zipfile\n",
        "    with zipfile.ZipFile(location,\"r\") as zip_ref:\n",
        "        zip_ref.extractall(**kwargs)\n",
        "\n",
        "def unzip_data(location):\n",
        "    if not os.path.exists('data'):\n",
        "        os.mkdir('data')\n",
        "    unzip(location,path='data')\n",
        "\n",
        "def is_colab():\n",
        "    import sys\n",
        "    return 'google.colab' in sys.modules\n",
        "\n",
        "def init():\n",
        "\n",
        "    import sys\n",
        "    if is_colab():\n",
        "        from google.colab import drive\n",
        "        drive.mount('/content/drive')\n",
        "        unzip('/content/drive/MyDrive/data science project/save_results.zip')\n",
        "        drive_path = '/content/drive/MyDrive/data science project'\n",
        "        unzip_data(drive_path + '/elliptic.zip')\n",
        "\n",
        "        repo_name = 'deep-learning-note'\n",
        "        if repo_name not in os.listdir():\n",
        "            !git clone https://github.com/taimoon/deep-learning-note\n",
        "        %pip install torch_geometric\n",
        "        torch_cuda_arg = r'https://data.pyg.org/whl/torch-2.0.0+cu118.html'\n",
        "        %pip install pyg_lib torch_scatter torch_sparse torch_cluster torch_spline_conv -f {torch_cuda_arg}\n",
        "\n",
        "        sys.path.insert(0,'./deep-learning-note/model/fraud detection/')\n",
        "\n",
        "    else:\n",
        "        sys.path.insert(0,'./model/fraud detection/')\n",
        "\n",
        "\n",
        "# %pip install torch_geometric pyg_lib torch_scatter torch_sparse torch_cluster torch_spline_conv -f https://data.pyg.org/whl/torch-2.0.0+cu118.html\n",
        "\n",
        "FOLDERNAME = \"/content/\" if is_colab() else \"./\"\n",
        "init()\n",
        "DATA_PATH = 'data/elliptic_bitcoin_dataset/'"
      ]
    },
    {
      "attachments": {},
      "cell_type": "markdown",
      "metadata": {
        "id": "Q_j02Aba5eNG"
      },
      "source": [
        "## Load packages"
      ]
    },
    {
      "cell_type": "code",
      "execution_count": 3,
      "metadata": {
        "id": "57DpXDnG1s3Y"
      },
      "outputs": [],
      "source": [
        "import warnings\n",
        "warnings.filterwarnings(\"ignore\")\n",
        "from IPython.display import clear_output\n",
        "\n",
        "import networkx as nx\n",
        "import numpy as np\n",
        "import pandas as pd\n",
        "from IPython.display import clear_output\n",
        "import matplotlib.pyplot as plt\n",
        "import torch\n",
        "\n",
        "from sklearn.metrics import accuracy_score,f1_score,roc_auc_score, precision_score, recall_score, confusion_matrix,average_precision_score\n",
        "from sklearn.model_selection import train_test_split"
      ]
    },
    {
      "attachments": {},
      "cell_type": "markdown",
      "metadata": {
        "id": "SQvz0L9OfMY-"
      },
      "source": [
        "# About Dataset"
      ]
    },
    {
      "attachments": {},
      "cell_type": "markdown",
      "metadata": {
        "id": "DVD9esYlfMY-"
      },
      "source": [
        "## Description\n",
        "The Elliptic Data Set maps Bitcoin transactions to real entities belonging to licit categories (exchanges, wallet providers, miners, licit services, etc.) versus illicit ones (scams, malware, terrorist organizations, ransomware, Ponzi schemes, etc.). The task on the dataset is to classify the illicit and licit nodes in the graph.\n",
        "\n",
        "If you make use of the Elliptic Data Set in your research, please consider citing:\n",
        "\n",
        "[1] Elliptic, www.elliptic.co.\n",
        "[2] M. Weber, G. Domeniconi, J. Chen, D. K. I. Weidele, C. Bellei, T. Robinson, C. E. Leiserson, \"Anti-Money Laundering in Bitcoin: Experimenting with Graph Convolutional Networks for Financial Forensics\", KDD ’19 Workshop on Anomaly Detection in Finance, August 2019, Anchorage, AK, USA.\n",
        "\n",
        "## Content\n",
        "This anonymized data set is a transaction graph collected from the Bitcoin blockchain. A node in the graph represents a transaction, an edge can be viewed as a flow of Bitcoins between one transaction and the other. Each node has 166 features and has been labeled as being created by a \"licit\", \"illicit\" or \"unknown\" entity.\n",
        "\n",
        "## Nodes and edges\n",
        "The graph is made of 203,769 nodes and 234,355 edges. Two percent (4,545) of the nodes are labelled class1 (illicit). Twenty-one percent (42,019) are labelled class2 (licit). The remaining transactions are not labelled with regard to licit versus illicit.\n",
        "\n",
        "## Features\n",
        "There are 166 features associated with each node. Due to intellectual property issues, we cannot provide an exact description of all the features in the dataset. There is a time step associated to each node, representing a measure of the time when a transaction was broadcasted to the Bitcoin network. The time steps, running from 1 to 49, are evenly spaced with an interval of about two weeks. **Each time step contains a single connected component of transactions that appeared on the blockchain within less than three hours between each other; there are no edges connecting the different time steps.**\n",
        "\n",
        "The first 94 features represent local information about the transaction – including the time step described above, number of inputs/outputs, transaction fee, output volume and aggregated figures such as average BTC received (spent) by the inputs/outputs and average number of incoming (outgoing) transactions associated with the inputs/outputs. The remaining 72 features are aggregated features, obtained using transaction information one-hop backward/forward from the center node - giving the maximum, minimum, standard deviation and correlation coefficients of the neighbour transactions for the same information data (number of inputs/outputs, transaction fee, etc.).\n",
        "\n",
        "## License\n",
        "This data set is distributed under the Creative CommonsAttribution-NonCommercial-NoDerivatives License 4.0 International."
      ]
    },
    {
      "attachments": {},
      "cell_type": "markdown",
      "metadata": {
        "id": "JG_52jrERTM_"
      },
      "source": [
        "# Data ETL"
      ]
    },
    {
      "attachments": {},
      "cell_type": "markdown",
      "metadata": {
        "id": "jniLGaFGRyx7"
      },
      "source": [
        "We have hosted the dataset on Gdrive to the public for convenience for one click download. However, the original data is hosted on kaggle as well. If you want to download data from Kaggle using API(if you already have an account) or get it manually from: https://www.kaggle.com/ellipticco/elliptic-data-set."
      ]
    },
    {
      "cell_type": "code",
      "execution_count": 4,
      "metadata": {
        "id": "7oLt6VonR28x"
      },
      "outputs": [],
      "source": [
        "Download=False\n",
        "if Download:\n",
        "    !gdown --id 1CIFpAquzYBA98gQCdMb92fC0w6yrYf2m\n",
        "    !gdown --id 1Cfh0VIXWTc8EK96WRZdyaqgA2-JwvsUG\n",
        "    !gdown --id 1Cfh8hA9Tl8uCPrLSmcIQI3qCbEjOFl7C\n",
        "    DATA_PATH = FOLDERNAME"
      ]
    },
    {
      "attachments": {},
      "cell_type": "markdown",
      "metadata": {
        "id": "KIomF3GmwLDv"
      },
      "source": [
        "## Load data"
      ]
    },
    {
      "cell_type": "code",
      "execution_count": 6,
      "metadata": {
        "id": "Z_FW_uxL2Dag"
      },
      "outputs": [],
      "source": [
        "# Load data from the folder\n",
        "df_features = pd.read_csv(DATA_PATH+'elliptic_txs_features.csv',header=None)\n",
        "df_edges = pd.read_csv(DATA_PATH+\"elliptic_txs_edgelist.csv\")\n",
        "df_classes =  pd.read_csv(DATA_PATH+\"elliptic_txs_classes.csv\")"
      ]
    },
    {
      "cell_type": "code",
      "execution_count": 7,
      "metadata": {
        "id": "M3xLsaD1fMZC"
      },
      "outputs": [],
      "source": [
        "contain_null = lambda df : df.isnull().any().any()\n",
        "assert(not contain_null(df_features))\n",
        "assert(not contain_null(df_edges))\n",
        "assert(not contain_null(df_classes))"
      ]
    },
    {
      "cell_type": "code",
      "execution_count": 8,
      "metadata": {
        "id": "DNoIdIrQ6BGU"
      },
      "outputs": [],
      "source": [
        "# reformat classes 0:licit, 1:illicit, 2:unknown\n",
        "idx_to_class = ['Licit','Illicit','Unknown']\n",
        "df_classes['class'] = df_classes['class'].map({'unknown': 2, '1':1, '2':0})"
      ]
    },
    {
      "cell_type": "code",
      "execution_count": 9,
      "metadata": {
        "colab": {
          "base_uri": "https://localhost:8080/",
          "height": 469
        },
        "id": "AUHm-fiwgmM1",
        "outputId": "97f641e7-054a-4ca8-929d-358919b7eb4b"
      },
      "outputs": [
        {
          "data": {
            "text/plain": [
              "<BarContainer object of 3 artists>"
            ]
          },
          "execution_count": 9,
          "metadata": {},
          "output_type": "execute_result"
        },
        {
          "data": {
            "image/png": "[encoded data removed]",
            "text/plain": [
              "<Figure size 640x480 with 1 Axes>"
            ]
          },
          "metadata": {},
          "output_type": "display_data"
        }
      ],
      "source": [
        "# See repartition of nodes per class\n",
        "group_class = df_classes.groupby('class').count()\n",
        "plt.title(\"# of nodes per class\")\n",
        "plt.barh(idx_to_class, group_class['txId'].values, color=['g', 'orange', 'r'] )"
      ]
    },
    {
      "attachments": {},
      "cell_type": "markdown",
      "metadata": {
        "id": "gN2WP_zbSnCY"
      },
      "source": [
        "## EDA - Preview of data features, edges and their labels"
      ]
    },
    {
      "cell_type": "code",
      "execution_count": 10,
      "metadata": {
        "colab": {
          "base_uri": "https://localhost:8080/",
          "height": 299
        },
        "id": "r2mZecSGSmc_",
        "outputId": "a3095556-e97f-4a10-ef6f-97187c58b298"
      },
      "outputs": [
        {
          "data": {
            "text/html": [
              "<div>\n",
              "<style scoped>\n",
              "    .dataframe tbody tr th:only-of-type {\n",
              "        vertical-align: middle;\n",
              "    }\n",
              "\n",
              "    .dataframe tbody tr th {\n",
              "        vertical-align: top;\n",
              "    }\n",
              "\n",
              "    .dataframe thead th {\n",
              "        text-align: right;\n",
              "    }\n",
              "</style>\n",
              "<table border=\"1\" class=\"dataframe\">\n",
              "  <thead>\n",
              "    <tr style=\"text-align: right;\">\n",
              "      <th></th>\n",
              "      <th>0</th>\n",
              "      <th>1</th>\n",
              "      <th>2</th>\n",
              "      <th>3</th>\n",
              "      <th>4</th>\n",
              "      <th>5</th>\n",
              "      <th>6</th>\n",
              "      <th>7</th>\n",
              "      <th>8</th>\n",
              "      <th>9</th>\n",
              "      <th>...</th>\n",
              "      <th>157</th>\n",
              "      <th>158</th>\n",
              "      <th>159</th>\n",
              "      <th>160</th>\n",
              "      <th>161</th>\n",
              "      <th>162</th>\n",
              "      <th>163</th>\n",
              "      <th>164</th>\n",
              "      <th>165</th>\n",
              "      <th>166</th>\n",
              "    </tr>\n",
              "  </thead>\n",
              "  <tbody>\n",
              "    <tr>\n",
              "      <th>0</th>\n",
              "      <td>230425980</td>\n",
              "      <td>1</td>\n",
              "      <td>-0.171469</td>\n",
              "      <td>-0.184668</td>\n",
              "      <td>-1.201369</td>\n",
              "      <td>-0.121970</td>\n",
              "      <td>-0.043875</td>\n",
              "      <td>-0.113002</td>\n",
              "      <td>-0.061584</td>\n",
              "      <td>-0.162097</td>\n",
              "      <td>...</td>\n",
              "      <td>-0.562153</td>\n",
              "      <td>-0.600999</td>\n",
              "      <td>1.461330</td>\n",
              "      <td>1.461369</td>\n",
              "      <td>0.018279</td>\n",
              "      <td>-0.087490</td>\n",
              "      <td>-0.131155</td>\n",
              "      <td>-0.097524</td>\n",
              "      <td>-0.120613</td>\n",
              "      <td>-0.119792</td>\n",
              "    </tr>\n",
              "    <tr>\n",
              "      <th>1</th>\n",
              "      <td>5530458</td>\n",
              "      <td>1</td>\n",
              "      <td>-0.171484</td>\n",
              "      <td>-0.184668</td>\n",
              "      <td>-1.201369</td>\n",
              "      <td>-0.121970</td>\n",
              "      <td>-0.043875</td>\n",
              "      <td>-0.113002</td>\n",
              "      <td>-0.061584</td>\n",
              "      <td>-0.162112</td>\n",
              "      <td>...</td>\n",
              "      <td>0.947382</td>\n",
              "      <td>0.673103</td>\n",
              "      <td>-0.979074</td>\n",
              "      <td>-0.978556</td>\n",
              "      <td>0.018279</td>\n",
              "      <td>-0.087490</td>\n",
              "      <td>-0.131155</td>\n",
              "      <td>-0.097524</td>\n",
              "      <td>-0.120613</td>\n",
              "      <td>-0.119792</td>\n",
              "    </tr>\n",
              "    <tr>\n",
              "      <th>2</th>\n",
              "      <td>232022460</td>\n",
              "      <td>1</td>\n",
              "      <td>-0.172107</td>\n",
              "      <td>-0.184668</td>\n",
              "      <td>-1.201369</td>\n",
              "      <td>-0.121970</td>\n",
              "      <td>-0.043875</td>\n",
              "      <td>-0.113002</td>\n",
              "      <td>-0.061584</td>\n",
              "      <td>-0.162749</td>\n",
              "      <td>...</td>\n",
              "      <td>0.670883</td>\n",
              "      <td>0.439728</td>\n",
              "      <td>-0.979074</td>\n",
              "      <td>-0.978556</td>\n",
              "      <td>-0.098889</td>\n",
              "      <td>-0.106715</td>\n",
              "      <td>-0.131155</td>\n",
              "      <td>-0.183671</td>\n",
              "      <td>-0.120613</td>\n",
              "      <td>-0.119792</td>\n",
              "    </tr>\n",
              "    <tr>\n",
              "      <th>3</th>\n",
              "      <td>232438397</td>\n",
              "      <td>1</td>\n",
              "      <td>0.163054</td>\n",
              "      <td>1.963790</td>\n",
              "      <td>-0.646376</td>\n",
              "      <td>12.409294</td>\n",
              "      <td>-0.063725</td>\n",
              "      <td>9.782742</td>\n",
              "      <td>12.414558</td>\n",
              "      <td>-0.163645</td>\n",
              "      <td>...</td>\n",
              "      <td>-0.577099</td>\n",
              "      <td>-0.613614</td>\n",
              "      <td>0.241128</td>\n",
              "      <td>0.241406</td>\n",
              "      <td>1.072793</td>\n",
              "      <td>0.085530</td>\n",
              "      <td>-0.131155</td>\n",
              "      <td>0.677799</td>\n",
              "      <td>-0.120613</td>\n",
              "      <td>-0.119792</td>\n",
              "    </tr>\n",
              "    <tr>\n",
              "      <th>4</th>\n",
              "      <td>230460314</td>\n",
              "      <td>1</td>\n",
              "      <td>1.011523</td>\n",
              "      <td>-0.081127</td>\n",
              "      <td>-1.201369</td>\n",
              "      <td>1.153668</td>\n",
              "      <td>0.333276</td>\n",
              "      <td>1.312656</td>\n",
              "      <td>-0.061584</td>\n",
              "      <td>-0.163523</td>\n",
              "      <td>...</td>\n",
              "      <td>-0.511871</td>\n",
              "      <td>-0.400422</td>\n",
              "      <td>0.517257</td>\n",
              "      <td>0.579382</td>\n",
              "      <td>0.018279</td>\n",
              "      <td>0.277775</td>\n",
              "      <td>0.326394</td>\n",
              "      <td>1.293750</td>\n",
              "      <td>0.178136</td>\n",
              "      <td>0.179117</td>\n",
              "    </tr>\n",
              "  </tbody>\n",
              "</table>\n",
              "<p>5 rows × 167 columns</p>\n",
              "</div>"
            ],
            "text/plain": [
              "         0    1         2         3         4          5         6     \n",
              "0  230425980    1 -0.171469 -0.184668 -1.201369  -0.121970 -0.043875  \\\n",
              "1    5530458    1 -0.171484 -0.184668 -1.201369  -0.121970 -0.043875   \n",
              "2  232022460    1 -0.172107 -0.184668 -1.201369  -0.121970 -0.043875   \n",
              "3  232438397    1  0.163054  1.963790 -0.646376  12.409294 -0.063725   \n",
              "4  230460314    1  1.011523 -0.081127 -1.201369   1.153668  0.333276   \n",
              "\n",
              "        7          8         9    ...       157       158       159       160   \n",
              "0 -0.113002  -0.061584 -0.162097  ... -0.562153 -0.600999  1.461330  1.461369  \\\n",
              "1 -0.113002  -0.061584 -0.162112  ...  0.947382  0.673103 -0.979074 -0.978556   \n",
              "2 -0.113002  -0.061584 -0.162749  ...  0.670883  0.439728 -0.979074 -0.978556   \n",
              "3  9.782742  12.414558 -0.163645  ... -0.577099 -0.613614  0.241128  0.241406   \n",
              "4  1.312656  -0.061584 -0.163523  ... -0.511871 -0.400422  0.517257  0.579382   \n",
              "\n",
              "        161       162       163       164       165       166  \n",
              "0  0.018279 -0.087490 -0.131155 -0.097524 -0.120613 -0.119792  \n",
              "1  0.018279 -0.087490 -0.131155 -0.097524 -0.120613 -0.119792  \n",
              "2 -0.098889 -0.106715 -0.131155 -0.183671 -0.120613 -0.119792  \n",
              "3  1.072793  0.085530 -0.131155  0.677799 -0.120613 -0.119792  \n",
              "4  0.018279  0.277775  0.326394  1.293750  0.178136  0.179117  \n",
              "\n",
              "[5 rows x 167 columns]"
            ]
          },
          "execution_count": 10,
          "metadata": {},
          "output_type": "execute_result"
        }
      ],
      "source": [
        "# View node features\n",
        "# Data is each node is a transaction ID, and edges are a bit weird, but its like a \"previous transaction\" edge type\n",
        "# column 0 = transaction id, column 1 = time step\n",
        "# first 94 = info of transaction\n",
        "# remaining 72 = aggregrated\n",
        "df_features.head()"
      ]
    },
    {
      "cell_type": "code",
      "execution_count": 11,
      "metadata": {
        "colab": {
          "base_uri": "https://localhost:8080/",
          "height": 206
        },
        "id": "jA-_AEWNfMZD",
        "outputId": "6218aacc-10fc-403c-8ed9-73c673427044"
      },
      "outputs": [
        {
          "data": {
            "text/html": [
              "<div>\n",
              "<style scoped>\n",
              "    .dataframe tbody tr th:only-of-type {\n",
              "        vertical-align: middle;\n",
              "    }\n",
              "\n",
              "    .dataframe tbody tr th {\n",
              "        vertical-align: top;\n",
              "    }\n",
              "\n",
              "    .dataframe thead th {\n",
              "        text-align: right;\n",
              "    }\n",
              "</style>\n",
              "<table border=\"1\" class=\"dataframe\">\n",
              "  <thead>\n",
              "    <tr style=\"text-align: right;\">\n",
              "      <th></th>\n",
              "      <th>txId1</th>\n",
              "      <th>txId2</th>\n",
              "    </tr>\n",
              "  </thead>\n",
              "  <tbody>\n",
              "    <tr>\n",
              "      <th>0</th>\n",
              "      <td>230425980</td>\n",
              "      <td>5530458</td>\n",
              "    </tr>\n",
              "    <tr>\n",
              "      <th>1</th>\n",
              "      <td>232022460</td>\n",
              "      <td>232438397</td>\n",
              "    </tr>\n",
              "    <tr>\n",
              "      <th>2</th>\n",
              "      <td>230460314</td>\n",
              "      <td>230459870</td>\n",
              "    </tr>\n",
              "    <tr>\n",
              "      <th>3</th>\n",
              "      <td>230333930</td>\n",
              "      <td>230595899</td>\n",
              "    </tr>\n",
              "    <tr>\n",
              "      <th>4</th>\n",
              "      <td>232013274</td>\n",
              "      <td>232029206</td>\n",
              "    </tr>\n",
              "  </tbody>\n",
              "</table>\n",
              "</div>"
            ],
            "text/plain": [
              "       txId1      txId2\n",
              "0  230425980    5530458\n",
              "1  232022460  232438397\n",
              "2  230460314  230459870\n",
              "3  230333930  230595899\n",
              "4  232013274  232029206"
            ]
          },
          "execution_count": 11,
          "metadata": {},
          "output_type": "execute_result"
        }
      ],
      "source": [
        "# See edges\n",
        "df_edges.head()"
      ]
    },
    {
      "cell_type": "code",
      "execution_count": 12,
      "metadata": {
        "colab": {
          "base_uri": "https://localhost:8080/",
          "height": 206
        },
        "id": "HgLCWm7UfMZE",
        "outputId": "94a60ec0-604d-4d7d-a659-6d153b20f066"
      },
      "outputs": [
        {
          "data": {
            "text/html": [
              "<div>\n",
              "<style scoped>\n",
              "    .dataframe tbody tr th:only-of-type {\n",
              "        vertical-align: middle;\n",
              "    }\n",
              "\n",
              "    .dataframe tbody tr th {\n",
              "        vertical-align: top;\n",
              "    }\n",
              "\n",
              "    .dataframe thead th {\n",
              "        text-align: right;\n",
              "    }\n",
              "</style>\n",
              "<table border=\"1\" class=\"dataframe\">\n",
              "  <thead>\n",
              "    <tr style=\"text-align: right;\">\n",
              "      <th></th>\n",
              "      <th>txId</th>\n",
              "      <th>class</th>\n",
              "    </tr>\n",
              "  </thead>\n",
              "  <tbody>\n",
              "    <tr>\n",
              "      <th>0</th>\n",
              "      <td>230425980</td>\n",
              "      <td>2</td>\n",
              "    </tr>\n",
              "    <tr>\n",
              "      <th>1</th>\n",
              "      <td>5530458</td>\n",
              "      <td>2</td>\n",
              "    </tr>\n",
              "    <tr>\n",
              "      <th>2</th>\n",
              "      <td>232022460</td>\n",
              "      <td>2</td>\n",
              "    </tr>\n",
              "    <tr>\n",
              "      <th>3</th>\n",
              "      <td>232438397</td>\n",
              "      <td>0</td>\n",
              "    </tr>\n",
              "    <tr>\n",
              "      <th>4</th>\n",
              "      <td>230460314</td>\n",
              "      <td>2</td>\n",
              "    </tr>\n",
              "  </tbody>\n",
              "</table>\n",
              "</div>"
            ],
            "text/plain": [
              "        txId  class\n",
              "0  230425980      2\n",
              "1    5530458      2\n",
              "2  232022460      2\n",
              "3  232438397      0\n",
              "4  230460314      2"
            ]
          },
          "execution_count": 12,
          "metadata": {},
          "output_type": "execute_result"
        }
      ],
      "source": [
        "# See classes\n",
        "df_classes.head()"
      ]
    },
    {
      "attachments": {},
      "cell_type": "markdown",
      "metadata": {
        "id": "dC7sVwUoRX3g"
      },
      "source": [
        "## Merge dataset"
      ]
    },
    {
      "cell_type": "code",
      "execution_count": 13,
      "metadata": {
        "colab": {
          "base_uri": "https://localhost:8080/"
        },
        "id": "gTyJEBYJEa3E",
        "outputId": "6a6039de-48fa-4658-d4d6-ddee831f3b28"
      },
      "outputs": [
        {
          "data": {
            "text/plain": [
              "True"
            ]
          },
          "execution_count": 13,
          "metadata": {},
          "output_type": "execute_result"
        }
      ],
      "source": [
        "tmp1 = pd.merge(df_edges,df_features[[0,1]],how='left',left_on='txId1',right_on=0)\n",
        "tmp2 = pd.merge(df_edges,df_features[[0,1]],how='left',left_on='txId2',right_on=0)\n",
        "res = tmp1[1] == tmp2[1]\n",
        "res.all()"
      ]
    },
    {
      "cell_type": "code",
      "execution_count": 14,
      "metadata": {
        "colab": {
          "base_uri": "https://localhost:8080/",
          "height": 487
        },
        "id": "iBYoyWM32JFQ",
        "outputId": "a0281901-82a3-4356-9086-8d15c68c8bf9"
      },
      "outputs": [
        {
          "data": {
            "text/html": [
              "<div>\n",
              "<style scoped>\n",
              "    .dataframe tbody tr th:only-of-type {\n",
              "        vertical-align: middle;\n",
              "    }\n",
              "\n",
              "    .dataframe tbody tr th {\n",
              "        vertical-align: top;\n",
              "    }\n",
              "\n",
              "    .dataframe thead th {\n",
              "        text-align: right;\n",
              "    }\n",
              "</style>\n",
              "<table border=\"1\" class=\"dataframe\">\n",
              "  <thead>\n",
              "    <tr style=\"text-align: right;\">\n",
              "      <th></th>\n",
              "      <th>0</th>\n",
              "      <th>1</th>\n",
              "      <th>2</th>\n",
              "      <th>3</th>\n",
              "      <th>4</th>\n",
              "      <th>5</th>\n",
              "      <th>6</th>\n",
              "      <th>7</th>\n",
              "      <th>8</th>\n",
              "      <th>9</th>\n",
              "      <th>...</th>\n",
              "      <th>159</th>\n",
              "      <th>160</th>\n",
              "      <th>161</th>\n",
              "      <th>162</th>\n",
              "      <th>163</th>\n",
              "      <th>164</th>\n",
              "      <th>165</th>\n",
              "      <th>166</th>\n",
              "      <th>txId</th>\n",
              "      <th>class</th>\n",
              "    </tr>\n",
              "  </thead>\n",
              "  <tbody>\n",
              "    <tr>\n",
              "      <th>0</th>\n",
              "      <td>230425980</td>\n",
              "      <td>1</td>\n",
              "      <td>-0.171469</td>\n",
              "      <td>-0.184668</td>\n",
              "      <td>-1.201369</td>\n",
              "      <td>-0.121970</td>\n",
              "      <td>-0.043875</td>\n",
              "      <td>-0.113002</td>\n",
              "      <td>-0.061584</td>\n",
              "      <td>-0.162097</td>\n",
              "      <td>...</td>\n",
              "      <td>1.461330</td>\n",
              "      <td>1.461369</td>\n",
              "      <td>0.018279</td>\n",
              "      <td>-0.087490</td>\n",
              "      <td>-0.131155</td>\n",
              "      <td>-0.097524</td>\n",
              "      <td>-0.120613</td>\n",
              "      <td>-0.119792</td>\n",
              "      <td>230425980</td>\n",
              "      <td>2</td>\n",
              "    </tr>\n",
              "    <tr>\n",
              "      <th>1</th>\n",
              "      <td>5530458</td>\n",
              "      <td>1</td>\n",
              "      <td>-0.171484</td>\n",
              "      <td>-0.184668</td>\n",
              "      <td>-1.201369</td>\n",
              "      <td>-0.121970</td>\n",
              "      <td>-0.043875</td>\n",
              "      <td>-0.113002</td>\n",
              "      <td>-0.061584</td>\n",
              "      <td>-0.162112</td>\n",
              "      <td>...</td>\n",
              "      <td>-0.979074</td>\n",
              "      <td>-0.978556</td>\n",
              "      <td>0.018279</td>\n",
              "      <td>-0.087490</td>\n",
              "      <td>-0.131155</td>\n",
              "      <td>-0.097524</td>\n",
              "      <td>-0.120613</td>\n",
              "      <td>-0.119792</td>\n",
              "      <td>5530458</td>\n",
              "      <td>2</td>\n",
              "    </tr>\n",
              "    <tr>\n",
              "      <th>2</th>\n",
              "      <td>232022460</td>\n",
              "      <td>1</td>\n",
              "      <td>-0.172107</td>\n",
              "      <td>-0.184668</td>\n",
              "      <td>-1.201369</td>\n",
              "      <td>-0.121970</td>\n",
              "      <td>-0.043875</td>\n",
              "      <td>-0.113002</td>\n",
              "      <td>-0.061584</td>\n",
              "      <td>-0.162749</td>\n",
              "      <td>...</td>\n",
              "      <td>-0.979074</td>\n",
              "      <td>-0.978556</td>\n",
              "      <td>-0.098889</td>\n",
              "      <td>-0.106715</td>\n",
              "      <td>-0.131155</td>\n",
              "      <td>-0.183671</td>\n",
              "      <td>-0.120613</td>\n",
              "      <td>-0.119792</td>\n",
              "      <td>232022460</td>\n",
              "      <td>2</td>\n",
              "    </tr>\n",
              "    <tr>\n",
              "      <th>3</th>\n",
              "      <td>232438397</td>\n",
              "      <td>1</td>\n",
              "      <td>0.163054</td>\n",
              "      <td>1.963790</td>\n",
              "      <td>-0.646376</td>\n",
              "      <td>12.409294</td>\n",
              "      <td>-0.063725</td>\n",
              "      <td>9.782742</td>\n",
              "      <td>12.414558</td>\n",
              "      <td>-0.163645</td>\n",
              "      <td>...</td>\n",
              "      <td>0.241128</td>\n",
              "      <td>0.241406</td>\n",
              "      <td>1.072793</td>\n",
              "      <td>0.085530</td>\n",
              "      <td>-0.131155</td>\n",
              "      <td>0.677799</td>\n",
              "      <td>-0.120613</td>\n",
              "      <td>-0.119792</td>\n",
              "      <td>232438397</td>\n",
              "      <td>0</td>\n",
              "    </tr>\n",
              "    <tr>\n",
              "      <th>4</th>\n",
              "      <td>230460314</td>\n",
              "      <td>1</td>\n",
              "      <td>1.011523</td>\n",
              "      <td>-0.081127</td>\n",
              "      <td>-1.201369</td>\n",
              "      <td>1.153668</td>\n",
              "      <td>0.333276</td>\n",
              "      <td>1.312656</td>\n",
              "      <td>-0.061584</td>\n",
              "      <td>-0.163523</td>\n",
              "      <td>...</td>\n",
              "      <td>0.517257</td>\n",
              "      <td>0.579382</td>\n",
              "      <td>0.018279</td>\n",
              "      <td>0.277775</td>\n",
              "      <td>0.326394</td>\n",
              "      <td>1.293750</td>\n",
              "      <td>0.178136</td>\n",
              "      <td>0.179117</td>\n",
              "      <td>230460314</td>\n",
              "      <td>2</td>\n",
              "    </tr>\n",
              "    <tr>\n",
              "      <th>...</th>\n",
              "      <td>...</td>\n",
              "      <td>...</td>\n",
              "      <td>...</td>\n",
              "      <td>...</td>\n",
              "      <td>...</td>\n",
              "      <td>...</td>\n",
              "      <td>...</td>\n",
              "      <td>...</td>\n",
              "      <td>...</td>\n",
              "      <td>...</td>\n",
              "      <td>...</td>\n",
              "      <td>...</td>\n",
              "      <td>...</td>\n",
              "      <td>...</td>\n",
              "      <td>...</td>\n",
              "      <td>...</td>\n",
              "      <td>...</td>\n",
              "      <td>...</td>\n",
              "      <td>...</td>\n",
              "      <td>...</td>\n",
              "      <td>...</td>\n",
              "    </tr>\n",
              "    <tr>\n",
              "      <th>203764</th>\n",
              "      <td>173077460</td>\n",
              "      <td>49</td>\n",
              "      <td>-0.145771</td>\n",
              "      <td>-0.163752</td>\n",
              "      <td>0.463609</td>\n",
              "      <td>-0.121970</td>\n",
              "      <td>-0.043875</td>\n",
              "      <td>-0.113002</td>\n",
              "      <td>-0.061584</td>\n",
              "      <td>-0.135803</td>\n",
              "      <td>...</td>\n",
              "      <td>0.241128</td>\n",
              "      <td>0.241406</td>\n",
              "      <td>0.018279</td>\n",
              "      <td>-0.087490</td>\n",
              "      <td>-0.131155</td>\n",
              "      <td>-0.097524</td>\n",
              "      <td>-0.120613</td>\n",
              "      <td>-0.119792</td>\n",
              "      <td>173077460</td>\n",
              "      <td>2</td>\n",
              "    </tr>\n",
              "    <tr>\n",
              "      <th>203765</th>\n",
              "      <td>158577750</td>\n",
              "      <td>49</td>\n",
              "      <td>-0.165920</td>\n",
              "      <td>-0.123607</td>\n",
              "      <td>1.018602</td>\n",
              "      <td>-0.121970</td>\n",
              "      <td>-0.043875</td>\n",
              "      <td>-0.113002</td>\n",
              "      <td>-0.061584</td>\n",
              "      <td>-0.156418</td>\n",
              "      <td>...</td>\n",
              "      <td>1.461330</td>\n",
              "      <td>1.461369</td>\n",
              "      <td>-0.098889</td>\n",
              "      <td>-0.087490</td>\n",
              "      <td>-0.084674</td>\n",
              "      <td>-0.140597</td>\n",
              "      <td>-1.760926</td>\n",
              "      <td>-1.760984</td>\n",
              "      <td>158577750</td>\n",
              "      <td>2</td>\n",
              "    </tr>\n",
              "    <tr>\n",
              "      <th>203766</th>\n",
              "      <td>158375402</td>\n",
              "      <td>49</td>\n",
              "      <td>-0.172014</td>\n",
              "      <td>-0.078182</td>\n",
              "      <td>1.018602</td>\n",
              "      <td>0.028105</td>\n",
              "      <td>-0.043875</td>\n",
              "      <td>0.054722</td>\n",
              "      <td>-0.061584</td>\n",
              "      <td>-0.163626</td>\n",
              "      <td>...</td>\n",
              "      <td>1.461330</td>\n",
              "      <td>1.461369</td>\n",
              "      <td>0.018279</td>\n",
              "      <td>-0.087490</td>\n",
              "      <td>-0.131155</td>\n",
              "      <td>-0.097524</td>\n",
              "      <td>-0.120613</td>\n",
              "      <td>-0.119792</td>\n",
              "      <td>158375402</td>\n",
              "      <td>1</td>\n",
              "    </tr>\n",
              "    <tr>\n",
              "      <th>203767</th>\n",
              "      <td>158654197</td>\n",
              "      <td>49</td>\n",
              "      <td>-0.172842</td>\n",
              "      <td>-0.176622</td>\n",
              "      <td>1.018602</td>\n",
              "      <td>-0.121970</td>\n",
              "      <td>-0.043875</td>\n",
              "      <td>-0.113002</td>\n",
              "      <td>-0.061584</td>\n",
              "      <td>-0.163501</td>\n",
              "      <td>...</td>\n",
              "      <td>1.461330</td>\n",
              "      <td>1.461369</td>\n",
              "      <td>-0.098889</td>\n",
              "      <td>-0.087490</td>\n",
              "      <td>-0.084674</td>\n",
              "      <td>-0.140597</td>\n",
              "      <td>1.519700</td>\n",
              "      <td>1.521399</td>\n",
              "      <td>158654197</td>\n",
              "      <td>2</td>\n",
              "    </tr>\n",
              "    <tr>\n",
              "      <th>203768</th>\n",
              "      <td>157597225</td>\n",
              "      <td>49</td>\n",
              "      <td>-0.012037</td>\n",
              "      <td>-0.132276</td>\n",
              "      <td>0.463609</td>\n",
              "      <td>-0.121970</td>\n",
              "      <td>-0.043875</td>\n",
              "      <td>-0.113002</td>\n",
              "      <td>-0.061584</td>\n",
              "      <td>0.001027</td>\n",
              "      <td>...</td>\n",
              "      <td>0.241128</td>\n",
              "      <td>0.241406</td>\n",
              "      <td>-0.098889</td>\n",
              "      <td>-0.087490</td>\n",
              "      <td>-0.084674</td>\n",
              "      <td>-0.140597</td>\n",
              "      <td>1.519700</td>\n",
              "      <td>1.521399</td>\n",
              "      <td>157597225</td>\n",
              "      <td>2</td>\n",
              "    </tr>\n",
              "  </tbody>\n",
              "</table>\n",
              "<p>203769 rows × 169 columns</p>\n",
              "</div>"
            ],
            "text/plain": [
              "                0   1         2         3         4          5         6   \n",
              "0       230425980   1 -0.171469 -0.184668 -1.201369  -0.121970 -0.043875  \\\n",
              "1         5530458   1 -0.171484 -0.184668 -1.201369  -0.121970 -0.043875   \n",
              "2       232022460   1 -0.172107 -0.184668 -1.201369  -0.121970 -0.043875   \n",
              "3       232438397   1  0.163054  1.963790 -0.646376  12.409294 -0.063725   \n",
              "4       230460314   1  1.011523 -0.081127 -1.201369   1.153668  0.333276   \n",
              "...           ...  ..       ...       ...       ...        ...       ...   \n",
              "203764  173077460  49 -0.145771 -0.163752  0.463609  -0.121970 -0.043875   \n",
              "203765  158577750  49 -0.165920 -0.123607  1.018602  -0.121970 -0.043875   \n",
              "203766  158375402  49 -0.172014 -0.078182  1.018602   0.028105 -0.043875   \n",
              "203767  158654197  49 -0.172842 -0.176622  1.018602  -0.121970 -0.043875   \n",
              "203768  157597225  49 -0.012037 -0.132276  0.463609  -0.121970 -0.043875   \n",
              "\n",
              "               7          8         9  ...       159       160       161   \n",
              "0      -0.113002  -0.061584 -0.162097  ...  1.461330  1.461369  0.018279  \\\n",
              "1      -0.113002  -0.061584 -0.162112  ... -0.979074 -0.978556  0.018279   \n",
              "2      -0.113002  -0.061584 -0.162749  ... -0.979074 -0.978556 -0.098889   \n",
              "3       9.782742  12.414558 -0.163645  ...  0.241128  0.241406  1.072793   \n",
              "4       1.312656  -0.061584 -0.163523  ...  0.517257  0.579382  0.018279   \n",
              "...          ...        ...       ...  ...       ...       ...       ...   \n",
              "203764 -0.113002  -0.061584 -0.135803  ...  0.241128  0.241406  0.018279   \n",
              "203765 -0.113002  -0.061584 -0.156418  ...  1.461330  1.461369 -0.098889   \n",
              "203766  0.054722  -0.061584 -0.163626  ...  1.461330  1.461369  0.018279   \n",
              "203767 -0.113002  -0.061584 -0.163501  ...  1.461330  1.461369 -0.098889   \n",
              "203768 -0.113002  -0.061584  0.001027  ...  0.241128  0.241406 -0.098889   \n",
              "\n",
              "             162       163       164       165       166       txId  class  \n",
              "0      -0.087490 -0.131155 -0.097524 -0.120613 -0.119792  230425980      2  \n",
              "1      -0.087490 -0.131155 -0.097524 -0.120613 -0.119792    5530458      2  \n",
              "2      -0.106715 -0.131155 -0.183671 -0.120613 -0.119792  232022460      2  \n",
              "3       0.085530 -0.131155  0.677799 -0.120613 -0.119792  232438397      0  \n",
              "4       0.277775  0.326394  1.293750  0.178136  0.179117  230460314      2  \n",
              "...          ...       ...       ...       ...       ...        ...    ...  \n",
              "203764 -0.087490 -0.131155 -0.097524 -0.120613 -0.119792  173077460      2  \n",
              "203765 -0.087490 -0.084674 -0.140597 -1.760926 -1.760984  158577750      2  \n",
              "203766 -0.087490 -0.131155 -0.097524 -0.120613 -0.119792  158375402      1  \n",
              "203767 -0.087490 -0.084674 -0.140597  1.519700  1.521399  158654197      2  \n",
              "203768 -0.087490 -0.084674 -0.140597  1.519700  1.521399  157597225      2  \n",
              "\n",
              "[203769 rows x 169 columns]"
            ]
          },
          "execution_count": 14,
          "metadata": {},
          "output_type": "execute_result"
        }
      ],
      "source": [
        "# Merge features with classes\n",
        "df_merge = df_features.merge(df_classes, how='left', left_on=0, right_on=\"txId\")\n",
        "df_merge"
      ]
    },
    {
      "cell_type": "code",
      "execution_count": 15,
      "metadata": {
        "colab": {
          "base_uri": "https://localhost:8080/",
          "height": 206
        },
        "id": "n8JPU_NTEa3F",
        "outputId": "405584cf-ac5e-4764-b203-6008800efc29"
      },
      "outputs": [
        {
          "data": {
            "text/html": [
              "<div>\n",
              "<style scoped>\n",
              "    .dataframe tbody tr th:only-of-type {\n",
              "        vertical-align: middle;\n",
              "    }\n",
              "\n",
              "    .dataframe tbody tr th {\n",
              "        vertical-align: top;\n",
              "    }\n",
              "\n",
              "    .dataframe thead th {\n",
              "        text-align: right;\n",
              "    }\n",
              "</style>\n",
              "<table border=\"1\" class=\"dataframe\">\n",
              "  <thead>\n",
              "    <tr style=\"text-align: right;\">\n",
              "      <th></th>\n",
              "      <th>txId1</th>\n",
              "      <th>txId2</th>\n",
              "      <th>0</th>\n",
              "      <th>1</th>\n",
              "    </tr>\n",
              "  </thead>\n",
              "  <tbody>\n",
              "    <tr>\n",
              "      <th>0</th>\n",
              "      <td>230425980</td>\n",
              "      <td>5530458</td>\n",
              "      <td>230425980</td>\n",
              "      <td>1</td>\n",
              "    </tr>\n",
              "    <tr>\n",
              "      <th>1</th>\n",
              "      <td>232022460</td>\n",
              "      <td>232438397</td>\n",
              "      <td>232022460</td>\n",
              "      <td>1</td>\n",
              "    </tr>\n",
              "    <tr>\n",
              "      <th>2</th>\n",
              "      <td>230460314</td>\n",
              "      <td>230459870</td>\n",
              "      <td>230460314</td>\n",
              "      <td>1</td>\n",
              "    </tr>\n",
              "    <tr>\n",
              "      <th>3</th>\n",
              "      <td>230333930</td>\n",
              "      <td>230595899</td>\n",
              "      <td>230333930</td>\n",
              "      <td>1</td>\n",
              "    </tr>\n",
              "    <tr>\n",
              "      <th>4</th>\n",
              "      <td>232013274</td>\n",
              "      <td>232029206</td>\n",
              "      <td>232013274</td>\n",
              "      <td>1</td>\n",
              "    </tr>\n",
              "  </tbody>\n",
              "</table>\n",
              "</div>"
            ],
            "text/plain": [
              "       txId1      txId2          0  1\n",
              "0  230425980    5530458  230425980  1\n",
              "1  232022460  232438397  232022460  1\n",
              "2  230460314  230459870  230460314  1\n",
              "3  230333930  230595899  230333930  1\n",
              "4  232013274  232029206  232013274  1"
            ]
          },
          "execution_count": 15,
          "metadata": {},
          "output_type": "execute_result"
        }
      ],
      "source": [
        "df_merged_edges = df_edges.merge(df_features[[0,1]],how='left',left_on='txId1',right_on=0)\n",
        "df_merged_edges.head()"
      ]
    },
    {
      "attachments": {},
      "cell_type": "markdown",
      "metadata": {
        "id": "qZXxW_rV_ewA"
      },
      "source": [
        "## Temporal Split"
      ]
    },
    {
      "cell_type": "code",
      "execution_count": 16,
      "metadata": {
        "id": "NDn-X5zYEa3G"
      },
      "outputs": [],
      "source": [
        "# Setup trans ID to node ID mapping\n",
        "def temporal_split(t = 1):\n",
        "    # ---- #\n",
        "    NODE_ID_COL,TIMESTEP_COL = 0,1\n",
        "    df = df_merge[df_merge[TIMESTEP_COL] == t]\n",
        "    df = df.sort_values(0).reset_index(drop=True)\n",
        "\n",
        "    nodes = df[NODE_ID_COL].values\n",
        "    node_to_id = {j:i for i,j in enumerate(nodes)}\n",
        "\n",
        "    edges = df_merged_edges[df_merged_edges[TIMESTEP_COL] == t]\n",
        "    edges = edges.drop(columns=[NODE_ID_COL,TIMESTEP_COL])\n",
        "    edges.txId1 = edges.txId1.map(node_to_id)\n",
        "    edges.txId2 = edges.txId2.map(node_to_id)\n",
        "    edge_index = torch.tensor(edges.values.astype(int)).T.long().contiguous() # create a tensor\n",
        "\n",
        "    # set all edge weights to be 1\n",
        "    weights = torch.tensor([1] * edge_index.shape[1] , dtype=torch.double)\n",
        "\n",
        "    labels = df['class'].values\n",
        "\n",
        "    # mapping txIds to corresponding indices, to pass node features to the model\n",
        "    node_features = df.drop(['txId'], axis=1).copy()\n",
        "    transID_to_nodeID = lambda: node_features[NODE_ID_COL].map(node_to_id)\n",
        "    node_features[NODE_ID_COL] = transID_to_nodeID()\n",
        "\n",
        "    # Retain known vs unknown ID\n",
        "    classified_idx = node_features['class'][node_features['class']!=2].index\n",
        "    unclassified_idx = node_features['class'][node_features['class']==2].index\n",
        "\n",
        "    classified_illicit_idx = node_features['class'][node_features['class']==1].index\n",
        "    classified_licit_idx = node_features['class'][node_features['class']==0].index\n",
        "\n",
        "    node_features = node_features.drop(columns=[NODE_ID_COL, TIMESTEP_COL, 'class'])\n",
        "\n",
        "    node_features_t = torch.tensor(np.array(node_features.values, dtype=np.double), dtype=torch.double)\n",
        "\n",
        "\n",
        "    from torch_geometric.data import Data\n",
        "    from sklearn.model_selection import train_test_split\n",
        "    train_idx, valid_idx = train_test_split(classified_idx.values, test_size=0.15, random_state=42)\n",
        "\n",
        "    data = Data(x=node_features_t, edge_index=edge_index, edge_attr=weights,\n",
        "                                y=torch.tensor(labels, dtype=torch.double),\n",
        "                id_to_node = {j:i for i,j in node_to_id.items()},\n",
        "                classified_idx = classified_idx,\n",
        "                classified_illicit_idx = classified_illicit_idx,\n",
        "                classified_licit_idx = classified_licit_idx,\n",
        "                unclassified_idx = unclassified_idx,\n",
        "                train_idx = train_idx,\n",
        "                valid_idx = valid_idx,)\n",
        "    # Add in the train and valid idx\n",
        "\n",
        "    return data"
      ]
    },
    {
      "cell_type": "code",
      "execution_count": 17,
      "metadata": {
        "id": "nUEFcB6VEa3G"
      },
      "outputs": [],
      "source": [
        "def fn():\n",
        "    # check whether temporal_split is correct\n",
        "    for t in range(1,50):\n",
        "        data = temporal_split(t)\n",
        "        data.edge_index\n",
        "        restored = [(data.id_to_node[a.item()],data.id_to_node[b.item()]) for a,b in data.edge_index.T]\n",
        "        restored = np.array(restored)\n",
        "        edges = df_merged_edges[df_merged_edges[1] == t]\n",
        "        edges = edges.drop(columns=[0,1])\n",
        "\n",
        "        # edges\n",
        "        res = restored == edges.values\n",
        "        assert(res.all() is np.bool_(True))\n",
        "\n",
        "        df = df_features[df_features[1] == t].sort_values(0)[range(2,166+1)]\n",
        "        res = torch.tensor(df.values) == data.x\n",
        "        assert(res.all().item() is True)\n",
        "# fn()"
      ]
    },
    {
      "attachments": {},
      "cell_type": "markdown",
      "metadata": {
        "id": "yFxFNl5pEwAB"
      },
      "source": [
        "# Create a PyG dataset\n",
        "\n",
        "Each PyG dataset stores a list of `torch_geometric.data.Data` objects, where each `torch_geometric.data.Data` object represents a graph. We can easily get the `Data` object by indexing into the dataset.\n",
        "\n",
        "For more information such as what is stored in the `Data` object, please refer to the [documentation](https://pytorch-geometric.readthedocs.io/en/latest/modules/data.html#torch_geometric.data.Data).\n",
        "\n",
        "We convert data to PyGeometric graph data format by using node_features, edge_index, weights and labels initialized before."
      ]
    },
    {
      "cell_type": "code",
      "execution_count": 18,
      "metadata": {
        "id": "poUjYoWqEa3H"
      },
      "outputs": [],
      "source": [
        "train_data = [temporal_split(t) for t in range(1,34+1)]\n",
        "test_data = [temporal_split(t) for t in range(35,49+1)]"
      ]
    },
    {
      "attachments": {},
      "cell_type": "markdown",
      "metadata": {
        "id": "0EuNBpJfR8O7"
      },
      "source": [
        "# Model setup\n"
      ]
    },
    {
      "cell_type": "code",
      "execution_count": 19,
      "metadata": {
        "id": "0lIXOMwSMc-l"
      },
      "outputs": [],
      "source": [
        "import torch\n",
        "import torch_scatter\n",
        "import torch.nn as nn\n",
        "import torch.nn.functional as F\n",
        "\n",
        "import torch_geometric.nn as pyg_nn\n",
        "import torch_geometric.utils as pyg_utils\n",
        "\n",
        "from torch import Tensor\n",
        "\n",
        "from typing import Union, Tuple, Optional\n",
        "from torch_geometric.typing import (OptPairTensor, Adj, Size, NoneType,\n",
        "                                    OptTensor)\n",
        "\n",
        "from torch.nn import Parameter, Linear\n",
        "from torch_sparse import SparseTensor, set_diag\n",
        "from torch_geometric.nn.conv import MessagePassing\n",
        "from torch_geometric.utils import remove_self_loops, add_self_loops, softmax, degree\n",
        "\n",
        "\n",
        "\n",
        "device = torch.device('cuda' if torch.cuda.is_available() else 'cpu')\n",
        "import pickle\n",
        "\n",
        "train_data = [data.to(device) for data in train_data]\n",
        "test_data = [data.to(device) for data in test_data]"
      ]
    },
    {
      "attachments": {},
      "cell_type": "markdown",
      "metadata": {
        "id": "vonuW3cKtxr9"
      },
      "source": [
        "## Prebuilt with PyG's built-in  layers\n",
        "In this section, we are using PyG's built-in layers with 2 layers and an additional MLP layers for the GATs models."
      ]
    },
    {
      "attachments": {},
      "cell_type": "markdown",
      "metadata": {
        "id": "nyE0VMalAyrt"
      },
      "source": [
        "### GCNConv"
      ]
    },
    {
      "cell_type": "code",
      "execution_count": 20,
      "metadata": {
        "id": "YH_8QV_Rypzl"
      },
      "outputs": [],
      "source": [
        "class GCN(nn.Module):\n",
        "    def __init__(self,seed=42):\n",
        "        super(GCN, self).__init__()\n",
        "        torch.manual_seed(seed)\n",
        "        self.conv1 = pyg_nn.GCNConv(165,128)\n",
        "        self.conv2 = pyg_nn.GCNConv(128,2)\n",
        "        self.classifier = Linear(2, 1)\n",
        "\n",
        "    def forward(self, data, adj=None):\n",
        "        x, edge_index = data.x, data.edge_index\n",
        "        h = self.conv1(x, edge_index)\n",
        "        h = F.tanh(h)\n",
        "        h = self.conv2(h, edge_index)\n",
        "        embeddings = F.tanh(h)  # Final GNN embedding space.\n",
        "\n",
        "        # Apply a final (linear) classifier.\n",
        "        out = self.classifier(embeddings)\n",
        "\n",
        "        # return out, embeddings\n",
        "        return F.sigmoid(out)"
      ]
    },
    {
      "attachments": {},
      "cell_type": "markdown",
      "metadata": {
        "id": "QNniFM2ec04t"
      },
      "source": [
        "### GATConv\n"
      ]
    },
    {
      "cell_type": "code",
      "execution_count": 21,
      "metadata": {
        "id": "Rjr_1PQf2TmI"
      },
      "outputs": [],
      "source": [
        "class GAT(nn.Module):\n",
        "    def __init__(self,input_dim, hidden_dim, output_dim,args,seed=42):\n",
        "        self.args = args\n",
        "        super(GAT, self).__init__()\n",
        "        torch.manual_seed(seed)\n",
        "        # use our gat message passing\n",
        "        self.conv1 = pyg_nn.GATConv(input_dim, hidden_dim, heads=args['heads'])\n",
        "        self.conv2 = pyg_nn.GATConv(args['heads'] * hidden_dim, hidden_dim, heads=args['heads'])\n",
        "\n",
        "        self.post_mp = nn.Sequential(\n",
        "            nn.Linear(args['heads'] * hidden_dim, hidden_dim),\n",
        "            nn.Dropout(args['dropout'] ),\n",
        "            nn.Linear(hidden_dim, output_dim),)\n",
        "\n",
        "    def forward(self, data, adj=None):\n",
        "        args = self.args\n",
        "        x, edge_index = data.x, data.edge_index\n",
        "        # Layer 1\n",
        "        x = self.conv1(x, edge_index)\n",
        "        x = F.dropout(F.relu(x), p=args['dropout'], training=self.training)\n",
        "        # Layer 2\n",
        "        x = self.conv2(x, edge_index)\n",
        "        x = F.dropout(F.relu(x), p=args['dropout'], training=self.training)\n",
        "        # MLP output\n",
        "        x = self.post_mp(x)\n",
        "        return F.sigmoid(x)"
      ]
    },
    {
      "attachments": {},
      "cell_type": "markdown",
      "metadata": {
        "id": "50arKCbIjEr6"
      },
      "source": [
        "### GATv2Conv"
      ]
    },
    {
      "cell_type": "code",
      "execution_count": 22,
      "metadata": {
        "id": "BrQtUh3gjH1A"
      },
      "outputs": [],
      "source": [
        "class GATv2(nn.Module):\n",
        "    def __init__(self,input_dim, hidden_dim, output_dim,args,seed=42):\n",
        "        self.args = args\n",
        "        super(GATv2, self).__init__()\n",
        "        torch.manual_seed(seed)\n",
        "        #use our gat message passing\n",
        "        self.conv1 = pyg_nn.GATv2Conv(input_dim, hidden_dim, heads=args['heads'])\n",
        "        self.conv2 = pyg_nn.GATv2Conv(args['heads'] * hidden_dim, hidden_dim, heads=args['heads'])\n",
        "\n",
        "        self.post_mp = nn.Sequential(\n",
        "            nn.Linear(args['heads'] * hidden_dim, hidden_dim),\n",
        "            nn.Dropout(args['dropout'] ),\n",
        "            nn.Linear(hidden_dim, output_dim))\n",
        "\n",
        "    def forward(self, data, adj=None):\n",
        "        args = self.args\n",
        "        x, edge_index = data.x, data.edge_index\n",
        "        # Layer 1\n",
        "        x = self.conv1(x, edge_index)\n",
        "        x = F.dropout(F.relu(x), p=args['dropout'], training=self.training)\n",
        "        # Layer 2\n",
        "        x = self.conv2(x, edge_index)\n",
        "        x = F.dropout(F.relu(x), p=args['dropout'], training=self.training)\n",
        "        # MLP output\n",
        "        x = self.post_mp(x)\n",
        "        return F.sigmoid(x)"
      ]
    },
    {
      "attachments": {},
      "cell_type": "markdown",
      "metadata": {
        "id": "_9CWuMUK_ewC"
      },
      "source": [
        "### VGAE"
      ]
    },
    {
      "cell_type": "code",
      "execution_count": 23,
      "metadata": {
        "id": "69horszf_ewK"
      },
      "outputs": [],
      "source": [
        "class GCN_Encoder(nn.Module):\n",
        "    def __init__(self, in_channels, hidden_channels, out_channels,seed=42):\n",
        "        super(GCN_Encoder, self).__init__()\n",
        "        torch.manual_seed(seed)\n",
        "        self.gcn_shared = pyg_nn.GCNConv(in_channels, hidden_channels)\n",
        "        self.gcn_mu = pyg_nn.GCNConv(hidden_channels, out_channels)\n",
        "        self.gcn_logvar = pyg_nn.GCNConv(hidden_channels, out_channels)\n",
        "\n",
        "    def forward(self, x, edge_index):\n",
        "        x = F.relu(self.gcn_shared(x, edge_index))\n",
        "        mu = self.gcn_mu(x, edge_index)\n",
        "        logvar = self.gcn_logvar(x, edge_index)\n",
        "        return mu, logvar\n",
        "\n",
        "class GAT_Encoder(nn.Module):\n",
        "    def __init__(self, in_channels, hidden_channels, out_channels,head=1,seed=42):\n",
        "        super(GAT_Encoder, self).__init__()\n",
        "        torch.manual_seed(seed)\n",
        "        self.preprocess = nn.Sequential(\n",
        "            nn.Linear(in_channels,2*in_channels),\n",
        "            nn.ReLU(),\n",
        "            nn.BatchNorm1d(2*in_channels),\n",
        "            nn.Linear(2*in_channels,in_channels),\n",
        "            nn.ReLU(),\n",
        "            nn.BatchNorm1d(in_channels),\n",
        "            )\n",
        "        self.gcn_shared = pyg_nn.GATv2Conv(in_channels, hidden_channels,head=head)\n",
        "        self.gcn_mu = pyg_nn.GATv2Conv(hidden_channels, out_channels,head=head)\n",
        "        self.gcn_logvar = pyg_nn.GATv2Conv(hidden_channels, out_channels,head=head)\n",
        "\n",
        "\n",
        "    def forward(self, x, edge_index):\n",
        "        x = self.preprocess(x)\n",
        "        x = F.relu(self.gcn_shared(x, edge_index))\n",
        "        mu = self.gcn_mu(x, edge_index)\n",
        "        logvar = self.gcn_logvar(x, edge_index)\n",
        "        return mu, logvar\n",
        "\n",
        "class Node_Decoder(nn.Module):\n",
        "    def __init__(self, latent_dim, hidden_dim, output_dim,seed=42):\n",
        "        super(Node_Decoder, self).__init__()\n",
        "        torch.manual_seed(seed)\n",
        "        self.fc_encoder = nn.Sequential(\n",
        "            nn.Linear(output_dim,output_dim//4),\n",
        "            nn.ReLU(),\n",
        "            nn.BatchNorm1d(output_dim//4),\n",
        "            nn.Linear(output_dim//4,latent_dim),\n",
        "            nn.ReLU(),\n",
        "        )\n",
        "        self.fc_decoder = nn.Sequential(\n",
        "            nn.Linear(latent_dim + latent_dim,hidden_dim),\n",
        "            nn.ReLU(),\n",
        "            nn.BatchNorm1d(hidden_dim),\n",
        "            nn.Linear(hidden_dim,output_dim),\n",
        "            nn.Sigmoid(),\n",
        "        )\n",
        "\n",
        "    def forward(self,z,x):\n",
        "        x = self.fc_encoder(x)\n",
        "        x = torch.cat((x,z),dim=1)\n",
        "        x = self.fc_decoder(x)\n",
        "        return x\n"
      ]
    },
    {
      "attachments": {},
      "cell_type": "markdown",
      "metadata": {
        "id": "EmGIuc2kfMZU"
      },
      "source": [
        "## Metric manager\n",
        "We can use mutiple metrics, but we are interested on auroc, f1micro score.\n",
        "\n",
        "Actually 2 types of f1 score can be used:\n",
        "\n",
        "- 'micro' - Calculate metrics globally by counting the total true positives, false negatives and false positives.\n",
        "\n",
        "- 'macro' -  Calculate metrics for each label, and find their unweighted mean. This does not take label imbalance into account."
      ]
    },
    {
      "cell_type": "code",
      "execution_count": 24,
      "metadata": {
        "id": "FPU7e_m7fMZU"
      },
      "outputs": [],
      "source": [
        "class metric_manager(object):\n",
        "    def __init__(self, modes=(\"train\", \"val\")):\n",
        "\n",
        "        self.output = {}\n",
        "\n",
        "        for mode in modes:\n",
        "            self.output[mode] = {}\n",
        "            metrics = [\"loss\",\"accuracy\",\"f1micro\",\"f1macro\",\"aucroc\",\"precision\",\"recall\",\"cm\"]\n",
        "            for m in metrics:\n",
        "                self.output[mode][m] = []\n",
        "\n",
        "    def store_metrics(self, mode, pred_scores, target_labels, loss, threshold=0.5):\n",
        "        # calculate metrics\n",
        "        pred_labels = pred_scores > threshold\n",
        "        self.output[mode]['loss'].append(loss)\n",
        "        # key\n",
        "        kw = {\n",
        "           \"accuracy\"   :  accuracy_score(target_labels, pred_labels),\n",
        "            \"f1micro\"   :  f1_score(target_labels, pred_labels,average='micro'),\n",
        "            \"f1macro\"   :  f1_score(target_labels, pred_labels,average='macro'),\n",
        "            \"aucroc\"   : roc_auc_score(target_labels, pred_scores),\n",
        "            \"recall\"    : recall_score(target_labels, pred_labels),\n",
        "            \"precision\" : precision_score(target_labels, pred_labels),\n",
        "            \"cm\"        : confusion_matrix(target_labels, pred_labels),\n",
        "        }\n",
        "        for m,v in kw.items():\n",
        "            self.output[mode][m].append(v)\n",
        "\n",
        "        return tuple(kw.values())\n",
        "\n",
        "    # Get best results\n",
        "    def get_best(self, metric, mode=\"val\"):\n",
        "\n",
        "        # Get best results index\n",
        "        best_results = {}\n",
        "        i = np.array(self.output[mode][metric]).argmax()\n",
        "\n",
        "        # Output\n",
        "        for m in self.output[mode].keys():\n",
        "            best_results[m] = self.output[mode][m][i]\n",
        "\n",
        "        return best_results"
      ]
    },
    {
      "attachments": {},
      "cell_type": "markdown",
      "metadata": {
        "id": "Oe0HSZ1v_ewM"
      },
      "source": [
        "# Autoencoder Training"
      ]
    },
    {
      "cell_type": "code",
      "execution_count": 41,
      "metadata": {
        "id": "L-u0QfGB_ewM"
      },
      "outputs": [],
      "source": [
        "@torch.no_grad()\n",
        "def test_gae(gae_model,node_model,data):\n",
        "    gae_model.eval()\n",
        "    z = gae_model.encode(data.x, data.edge_index)\n",
        "    neg_edge_label = pyg_utils.negative_sampling(data.edge_index,data.x.shape[0])\n",
        "    auc,ap = gae_model.test(z, data.edge_index, neg_edge_label)\n",
        "\n",
        "    x = node_model(z,data.x)\n",
        "    loss = F.mse_loss(x,data.x)\n",
        "    loss = loss + gae_model.recon_loss(z, data.edge_index, neg_edge_label)\n",
        "    loss = loss + (1 / data.num_nodes) * gae_model.kl_loss()\n",
        "    return loss.item(),auc,ap\n",
        "\n",
        "# Training loop\n",
        "def update_gae(gae_model,node_model,data,optimizer):\n",
        "    gae_model.train()\n",
        "    z = gae_model.encode(data.x, data.edge_index)\n",
        "\n",
        "    x = node_model(z,data.x)\n",
        "    loss = F.mse_loss(x,data.x)\n",
        "\n",
        "    loss = loss + gae_model.recon_loss(z, data.edge_index)\n",
        "    loss = loss + (1 / data.num_nodes) * gae_model.kl_loss()\n",
        "\n",
        "    optimizer.zero_grad()\n",
        "    loss.backward()\n",
        "    optimizer.step()\n",
        "    return loss.item()\n",
        "\n",
        "def train_gae(gae_model,node_model,optimizer,hist,n):\n",
        "    mean = lambda t: torch.tensor(t).mean().item()\n",
        "    for epoch in range(n):\n",
        "        loss_hist = []\n",
        "        for data in train_data:\n",
        "            loss = update_gae(gae_model,node_model,data,optimizer)\n",
        "            loss_hist.append(loss)\n",
        "\n",
        "        hist['train']['loss'].append(mean(loss_hist))\n",
        "        loss_hist = []\n",
        "        auc_hist = []\n",
        "        ap_hist = []\n",
        "        for data in test_data:\n",
        "            loss,auc,ap = test_gae(gae_model,node_model,data)\n",
        "            loss_hist.append(loss)\n",
        "            auc_hist.append(auc)\n",
        "            ap_hist.append(ap)\n",
        "        hist['test']['loss'].append(mean(loss_hist))\n",
        "        hist['test']['auc'].append(mean(auc_hist))\n",
        "        hist['test']['ap'].append(mean(ap_hist))\n",
        "        if (epoch+1) % 10 == 0 :\n",
        "            clear_output()\n",
        "            print(f\"average precision {ap:.4f}\")\n",
        "            plot_loss(hist)\n",
        "\n",
        "def init_hist():\n",
        "    hist = {'train':{},'test':{}}\n",
        "    metrics = \"loss auc ap node_loss\"\n",
        "    for mode in \"train test\".split():\n",
        "        for m in metrics.split():\n",
        "            hist[mode][m]=[]\n",
        "    return hist\n",
        "\n",
        "def plot_loss(hist):\n",
        "    fig,axs = plt.subplots(1,3,figsize=(12,4))\n",
        "    epoch = len(hist['train']['loss'])\n",
        "    fig.suptitle(f'GAE Training History Epoch - {epoch}')\n",
        "    for ax,m in zip(axs.flatten(),hist['train'].keys()):\n",
        "        ax.set_title(m)\n",
        "        ax.plot(hist['train'][m],label='train',ls='solid')\n",
        "        ax.plot(hist['test'][m],label='test',ls='dashed')\n",
        "    handles, labels = fig.axes[0].get_legend_handles_labels()\n",
        "    fig.legend(handles, labels)\n",
        "    plt.show()\n",
        "    return fig\n",
        "\n",
        "def reconstruct_data(gae_model,node_model,data,threshold=None):\n",
        "    z = gae_model.encode(data.x, data.edge_index)\n",
        "    x = node_model(z,data.x).detach()\n",
        "    adj = gae_model.decoder.forward_all(z).detach()\n",
        "    # adj = adj > threshold\n",
        "    adj = adj.long() if threshold is None else adj > threshold\n",
        "    edge_index = pyg_utils.dense_to_sparse(adj)[0]\n",
        "    from torch_geometric.data import Data\n",
        "    recon_data = Data(x=x,edge_index=edge_index,\n",
        "                      y=data.y,\n",
        "                      edge_attr = data.edge_attr,\n",
        "                      id_to_node = data.id_to_node,\n",
        "                      classified_idx = data.classified_idx,\n",
        "                      classified_illicit_idx = data.classified_illicit_idx,\n",
        "                      classified_licit_idx = data.classified_licit_idx,\n",
        "                      unclassified_idx = data.unclassified_idx,\n",
        "                      train_idx = data.train_idx,\n",
        "                      valid_idx = data.valid_idx,)\n",
        "    return recon_data"
      ]
    },
    {
      "cell_type": "code",
      "execution_count": 26,
      "metadata": {
        "id": "akT6NxK1_ewM"
      },
      "outputs": [],
      "source": [
        "in_channels = train_data[0].num_node_features\n",
        "hidden_channels = 128\n",
        "latent_dim = 32\n",
        "\n",
        "gae_model = pyg_nn.VGAE(GCN_Encoder(in_channels,hidden_channels,latent_dim))\n",
        "node_model = Node_Decoder(latent_dim,hidden_channels,in_channels)\n",
        "gae_model = gae_model.to(device)\n",
        "node_model = node_model.to(device)\n",
        "params = list(gae_model.parameters()) + list(node_model.parameters())\n",
        "optimizer = torch.optim.Adam(params,lr = 0.001)\n",
        "hist = init_hist()"
      ]
    },
    {
      "cell_type": "code",
      "execution_count": 27,
      "metadata": {
        "id": "AuK6bsd9_ewN"
      },
      "outputs": [],
      "source": [
        "def save_model(gae_model,node_model,optimizer,hist,path):\n",
        "    torch.save({\"gae_model\":gae_model.state_dict(),\n",
        "    \"node_model\":node_model.state_dict(),\n",
        "    \"optimizer\":optimizer.state_dict(),\n",
        "    \"hist\":hist},path)\n",
        "\n",
        "def load_model(path):\n",
        "    checkpoint = torch.load(path)\n",
        "    gae_model = pyg_nn.VGAE(GCN_Encoder(in_channels,hidden_channels,latent_dim))\n",
        "    node_model = Node_Decoder(latent_dim,hidden_channels,in_channels)\n",
        "    gae_model = gae_model.to(device)\n",
        "    node_model = node_model.to(device)\n",
        "    gae_model.load_state_dict(checkpoint[\"gae_model\"])\n",
        "    node_model.load_state_dict(checkpoint[\"node_model\"])\n",
        "    params = list(gae_model.parameters()) + list(node_model.parameters())\n",
        "    optimizer = torch.optim.Adam(params,lr = 0.005)\n",
        "    optimizer.load_state_dict(checkpoint[\"optimizer\"])\n",
        "    hist = checkpoint[\"hist\"]\n",
        "    return gae_model,node_model,optimizer,hist\n",
        "\n",
        "def savefig(fig,name):\n",
        "        fig.savefig(f'./save_results/visualization/{name}.png',format='png')"
      ]
    },
    {
      "cell_type": "code",
      "execution_count": 30,
      "metadata": {
        "colab": {
          "base_uri": "https://localhost:8080/",
          "height": 403
        },
        "id": "3_9RTUR5_ewN",
        "outputId": "3560057c-ea22-4bcd-8b40-42e5a463b113"
      },
      "outputs": [
        {
          "name": "stdout",
          "output_type": "stream",
          "text": [
            "average precision 0.9524\n"
          ]
        },
        {
          "data": {
            "image/png": "[encoded data removed]",
            "text/plain": [
              "<Figure size 1200x400 with 3 Axes>"
            ]
          },
          "metadata": {},
          "output_type": "display_data"
        },
        {
          "data": {
            "image/png": "[encoded data removed]",
            "text/plain": [
              "<Figure size 1200x400 with 3 Axes>"
            ]
          },
          "metadata": {},
          "output_type": "display_data"
        }
      ],
      "source": [
        "def get_file_path(n=None):\n",
        "    return f\"./save_results/gae_model {n}.pth\"\n",
        "\n",
        "# gae_model,node_model,optimizer,hist = load_model(get_file_path(200))\n",
        "for i in range(6):\n",
        "    train_gae(gae_model.double(),node_model.double(),optimizer,hist,50)\n",
        "    save_model(gae_model,node_model,optimizer,hist,get_file_path(len(hist['train']['loss'])))\n",
        "\n",
        "gae_model,node_model,optimizer,hist = load_model(get_file_path(200))\n",
        "fig = plot_loss(hist)\n",
        "savefig(fig,'GAE_training_hist')"
      ]
    },
    {
      "cell_type": "code",
      "execution_count": 31,
      "metadata": {},
      "outputs": [
        {
          "data": {
            "text/plain": [
              "(torch.Size([2, 9164]), torch.Size([9164]))"
            ]
          },
          "execution_count": 31,
          "metadata": {},
          "output_type": "execute_result"
        }
      ],
      "source": [
        "from sklearn.metrics import average_precision_score, roc_auc_score\n",
        "def test(self, z: Tensor, pos_edge_index: Tensor,\n",
        "            neg_edge_index: Tensor) -> Tuple[Tensor, Tensor]:\n",
        "    \n",
        "    pos_y = z.new_ones(pos_edge_index.size(1))\n",
        "    neg_y = z.new_zeros(neg_edge_index.size(1))\n",
        "    y = torch.cat([pos_y, neg_y], dim=0)\n",
        "\n",
        "    pos_pred = self.decoder(z, pos_edge_index, sigmoid=True)\n",
        "    neg_pred = self.decoder(z, neg_edge_index, sigmoid=True)\n",
        "    pred = torch.cat([pos_pred, neg_pred], dim=0)\n",
        "    y, pred = y.detach().cpu().numpy(), pred.detach().cpu().numpy()\n",
        "    return roc_auc_score(y, pred), average_precision_score(y, pred)\n",
        "data =train_data[0]\n",
        "neg_edge = pyg_utils.negative_sampling(data.edge_index)\n",
        "# y,pred = test(gae_model,gae_model.double().encode(data.x, data.edge_index),data.edge_index,neg_edge)\n",
        "# roc_auc_score(y,pred)\n",
        "data.edge_index.shape , test(gae_model,gae_model.double().encode(data.x, data.edge_index),data.edge_index,neg_edge).shape"
      ]
    },
    {
      "cell_type": "code",
      "execution_count": 32,
      "metadata": {},
      "outputs": [
        {
          "data": {
            "image/png": "[encoded data removed]",
            "text/plain": [
              "<Figure size 640x480 with 1 Axes>"
            ]
          },
          "metadata": {},
          "output_type": "display_data"
        }
      ],
      "source": [
        "def calc_metric(model,data,threshold=None):\n",
        "    model.eval()\n",
        "    z = model.encode(data.x.float(), data.edge_index)\n",
        "    edge_index = model.decoder(z, data.edge_index, sigmoid=True)\n",
        "    edge_index = edge_index.long() if threshold is None else edge_index >= threshold\n",
        "    edge_index = edge_index.detach().cpu()\n",
        "    fn = lambda t : t.flatten().cpu().long()\n",
        "    \n",
        "    target = torch.ones(data.edge_index.size(1))\n",
        "    cm = confusion_matrix(target,edge_index)\n",
        "\n",
        "    return {\n",
        "        \"ideal_cm\":confusion_matrix(target,edge_index),\n",
        "        \"cm\": cm,\n",
        "        \"precision\": precision_score(target,edge_index),\n",
        "        \"recall\": recall_score(target,edge_index),\n",
        "        \"acc\" : accuracy_score(target,edge_index),\n",
        "        \"f1\": f1_score(target,edge_index)\n",
        "    }\n",
        "    \n",
        "xs   = np.linspace(0,1.0)\n",
        "recall_hist = []\n",
        "precision_hist  = []\n",
        "for x in xs:\n",
        "    res = calc_metric(gae_model.float(),data,x)\n",
        "    recall_hist.append(res['recall'])\n",
        "    precision_hist.append(res['precision'])\n",
        "    \n",
        "    \n",
        "fig,ax = plt.subplots(1,1)\n",
        "fig.suptitle('Precision vs. Recall')\n",
        "ax.scatter(recall_hist,precision_hist,c=xs,cmap='plasma')\n",
        "ax.axhline(y=0,label='no skill',ls='dotted')\n",
        "ax.set_xlabel('Recall')\n",
        "ax.set_ylabel('Precision')\n",
        "ax.plot(recall_hist,precision_hist,label='model')\n",
        "ax.plot([0,1,1],[1,1,0], label='perfect model', ls='dashed')\n",
        "ax.legend()\n",
        "\n",
        "savefig(plt,'GAE_informed_precision_recall_thresholding')"
      ]
    },
    {
      "cell_type": "code",
      "execution_count": 33,
      "metadata": {
        "id": "nHTC8bZZ_ewN"
      },
      "outputs": [],
      "source": [
        "def calc_model(model,data,threshold=None):\n",
        "    model.eval()\n",
        "    z = model.encode(data.x.float(), data.edge_index)\n",
        "    adj = model.decoder.forward_all(z)\n",
        "    adj = adj.long() if threshold is None else adj >= threshold\n",
        "    edge_index = pyg_utils.dense_to_sparse(adj)[0]\n",
        "\n",
        "    fn = lambda t : t.flatten().cpu().long()\n",
        "    pred,target = fn(adj), fn(pyg_utils.to_dense_adj(data.edge_index))\n",
        "\n",
        "    cm = confusion_matrix(target,pred)\n",
        "\n",
        "    tn,fp = cm[0,:]\n",
        "    fn,tp = cm[1,:]\n",
        "\n",
        "    precision = tp / (tp+fp)\n",
        "    recall = tp / (tp+fn)\n",
        "    acc = (tn+tp) / sum([tn,fn, fp, tp])\n",
        "    f1 = (precision * recall)/(precision + recall)\n",
        "\n",
        "    return {\n",
        "        \"ideal_cm\":confusion_matrix(target,target),\n",
        "        \"cm\": cm,\n",
        "        \"size_ratio\": edge_index.shape[1]/data.edge_index.shape[1],\n",
        "        \"precision\": precision,\n",
        "        \"recall\": recall,\n",
        "        \"acc\" : acc,\n",
        "        \"f1\": f1\n",
        "    }"
      ]
    },
    {
      "cell_type": "code",
      "execution_count": 34,
      "metadata": {
        "colab": {
          "base_uri": "https://localhost:8080/",
          "height": 472
        },
        "id": "VXzwM_ux_ewO",
        "outputId": "5b1c29bf-c919-4619-9f78-ccf890d9fdff"
      },
      "outputs": [
        {
          "data": {
            "image/png": "[encoded data removed]",
            "text/plain": [
              "<Figure size 640x480 with 1 Axes>"
            ]
          },
          "metadata": {},
          "output_type": "display_data"
        }
      ],
      "source": [
        "x = [0.5,0.9,0.95,0.99,0.9999]\n",
        "y = []\n",
        "precision_hist = []\n",
        "recall_hist = []\n",
        "size_hist = []\n",
        "for t in x:\n",
        "    res = calc_model(gae_model,test_data[0],t)\n",
        "    precision_hist.append(res['precision'])\n",
        "    recall_hist.append(res['recall'])\n",
        "    size_hist.append(res['size_ratio'])\n",
        "    y.append(res['f1'])\n",
        "\n",
        "plt.title('Metric of Reconstructed Data')\n",
        "[plt.axvline(1 if i is None else i,alpha=0.5,ls='--') for i in x]\n",
        "plt.xlabel('threshold')\n",
        "plt.scatter(x,y,label='f1',marker='x')\n",
        "plt.scatter(x,precision_hist,label='precision',marker='^')\n",
        "plt.scatter(x,recall_hist,label='recall',marker='P')\n",
        "plt.legend()\n",
        "savefig(plt,'GAE_thresholding_comp')"
      ]
    },
    {
      "cell_type": "code",
      "execution_count": 35,
      "metadata": {},
      "outputs": [
        {
          "data": {
            "image/png": "[encoded data removed]",
            "text/plain": [
              "<Figure size 1000x400 with 2 Axes>"
            ]
          },
          "metadata": {},
          "output_type": "display_data"
        }
      ],
      "source": [
        "fig,axs = plt.subplots(1,2,figsize=(10,4))\n",
        "fig.suptitle('Precision vs. Recall')\n",
        "for ax in axs.flatten():\n",
        "    ax.scatter(recall_hist,precision_hist,c=np.array(x),cmap='plasma')\n",
        "    ax.axhline(y=0,label='no skill',ls='dotted')\n",
        "    \n",
        "    ax.set_xlabel('Recall')\n",
        "    ax.set_ylabel('Precision')\n",
        "    ax.plot(recall_hist,precision_hist,label='model')\n",
        "    \n",
        "axs[1].scatter([0,1,1],[1,0,1])\n",
        "axs[1].plot([0,1,1],[1,1,0], label='perfect model', ls='dashed')\n",
        "handles, labels = fig.axes[1].get_legend_handles_labels()\n",
        "axs[1].legend(handles, labels)\n",
        "\n",
        "savefig(plt,'GAE_precision_recall_thresholding')"
      ]
    },
    {
      "cell_type": "code",
      "execution_count": 36,
      "metadata": {
        "colab": {
          "base_uri": "https://localhost:8080/",
          "height": 472
        },
        "id": "39reFtZJ_ewO",
        "outputId": "80182848-85b2-4db7-9738-dc76a9c679e7"
      },
      "outputs": [
        {
          "data": {
            "image/png": "[encoded data removed]",
            "text/plain": [
              "<Figure size 640x480 with 1 Axes>"
            ]
          },
          "metadata": {},
          "output_type": "display_data"
        }
      ],
      "source": [
        "plt.title('Size Ratio between Reconstructed and Original')\n",
        "plt.axhline(y=np.log10(1))\n",
        "plt.ylabel('log10')\n",
        "plt.xlabel('threshold')\n",
        "[plt.axvline(1 if i is None else i,alpha=0.5,ls='--') for i in x]\n",
        "plt.scatter(x,np.log10(size_hist),label='size_ratio',marker='8')\n",
        "savefig(plt,'GAE_thresholding_size_comp')"
      ]
    },
    {
      "attachments": {},
      "cell_type": "markdown",
      "metadata": {
        "id": "2wEfYY2BR_pZ"
      },
      "source": [
        "# Model training"
      ]
    },
    {
      "attachments": {},
      "cell_type": "markdown",
      "metadata": {
        "id": "9VkbJQMGwm1V"
      },
      "source": [
        "## GNNTrainer object"
      ]
    },
    {
      "cell_type": "code",
      "execution_count": 37,
      "metadata": {
        "id": "AxJ5Gouidfai"
      },
      "outputs": [],
      "source": [
        "class GNN_trainer(object):\n",
        "    def __init__(self, model):\n",
        "        self.model = model\n",
        "        self.metric_manager = metric_manager(modes=[\"train\", \"val\"])\n",
        "\n",
        "    def train_step(self, train_dataset, optimizer, criterion, args):\n",
        "        train_targets = torch.tensor([])\n",
        "        train_preds = torch.tensor([])\n",
        "        test_targets = torch.tensor([])\n",
        "        test_preds = torch.tensor([])\n",
        "        train_losses = []\n",
        "        test_losses = []\n",
        "\n",
        "        for data in train_dataset:\n",
        "            self.model.train()\n",
        "            out = self.model(data)\n",
        "\n",
        "            out = out.reshape(data.x.shape[0])\n",
        "\n",
        "            ## Metric calculations\n",
        "            # train data\n",
        "            target_labels = data.y.detach().cpu()[data.train_idx]\n",
        "            pred_scores = out.detach().cpu()[data.train_idx]\n",
        "            train_targets = torch.cat((train_targets,target_labels))\n",
        "            train_preds = torch.cat((train_preds,pred_scores))\n",
        "\n",
        "            ## Training Step\n",
        "            optimizer.zero_grad()\n",
        "            loss = criterion(out[data.train_idx], data.y[data.train_idx])\n",
        "            loss.backward()\n",
        "            optimizer.step()\n",
        "            train_losses.append(loss.item())\n",
        "\n",
        "            # validation data\n",
        "            self.model.eval()\n",
        "            target_labels = data.y.detach().cpu()[data.valid_idx]\n",
        "            pred_scores = out.detach().cpu()[data.valid_idx]\n",
        "            loss = criterion(out[data.valid_idx], data.y[data.valid_idx])\n",
        "            test_targets = torch.cat((test_targets,target_labels))\n",
        "            test_preds = torch.cat((test_preds,pred_scores))\n",
        "            test_losses.append(loss.item())\n",
        "\n",
        "        train_loss = sum(train_losses)/train_targets.size(0)\n",
        "        test_loss = sum(test_losses)/test_targets.size(0)\n",
        "        return train_preds, train_targets, test_preds, test_targets,train_loss,test_loss\n",
        "\n",
        "    def train(self, train_dataset, optimizer, criterion, args):\n",
        "        self.train_dataset = train_dataset\n",
        "        for epoch in range(args['epochs']):\n",
        "            fn = lambda: self.train_step(train_dataset, optimizer, criterion, args)\n",
        "            train_preds, train_targets, test_preds,test_targets,train_loss,test_loss  = fn()\n",
        "\n",
        "            self.metric_manager.store_metrics(\"train\", train_preds, train_targets,train_loss)\n",
        "            self.metric_manager.store_metrics(\"val\", test_preds, test_targets,test_loss)\n",
        "\n",
        "            if epoch%5 == 0:\n",
        "                train_acc = self.metric_manager.output[\"train\"]['accuracy'][-1]\n",
        "                val_acc = self.metric_manager.output[\"val\"]['accuracy'][-1]\n",
        "                val_aucroc = self.metric_manager.output[\"val\"]['aucroc'][-1]\n",
        "                val_f1 = self.metric_manager.output[\"val\"]['f1micro'][-1]\n",
        "                print(\"epoch: {} - loss: {:.4f} - accuracy train: {:.4f} - accuracy valid: {:.4f}  - val roc: {:.4f}  - val f1micro: {:.4f}\".format(epoch, train_loss, train_acc, val_acc, val_aucroc,val_f1))\n",
        "\n",
        "    # To predict labels\n",
        "    def predict(self, data=None, unclassified_only=True, threshold=0.5):\n",
        "        self.model.eval()\n",
        "\n",
        "        out = self.model(data)\n",
        "        out = out.reshape((data.x.shape[0]))\n",
        "\n",
        "        if unclassified_only:\n",
        "            pred_scores = out.detach().cpu().numpy()[data.test_idx]\n",
        "        else:\n",
        "            pred_scores = out.detach().cpu().numpy()\n",
        "\n",
        "        pred_labels = pred_scores > threshold\n",
        "\n",
        "        return {\"pred_scores\":pred_scores, \"pred_labels\":pred_labels}\n",
        "\n",
        "    # To save metrics\n",
        "    def save_metrics(self, save_name, path=\"./save/\"):\n",
        "        file_to_store = open(path + save_name, \"wb\")\n",
        "        pickle.dump(self.metric_manager, file_to_store)\n",
        "        file_to_store.close()\n",
        "\n",
        "    # To save model\n",
        "    def save_model(self, save_name, path=\"./save/\"):\n",
        "        torch.save(self.model.state_dict(), path + save_name)"
      ]
    },
    {
      "attachments": {},
      "cell_type": "markdown",
      "metadata": {
        "id": "XLHFsY5IjZyD"
      },
      "source": [
        "## Training and validation"
      ]
    },
    {
      "cell_type": "code",
      "execution_count": 38,
      "metadata": {
        "id": "jvnfhp0Uu3oo"
      },
      "outputs": [],
      "source": [
        "args={\"epochs\":25,\n",
        "      'lr':0.01,\n",
        "      'weight_decay':1e-5,\n",
        "      'heads':2,\n",
        "      'hidden_dim': 32,\n",
        "      'dropout': 0.5\n",
        "      }"
      ]
    },
    {
      "attachments": {},
      "cell_type": "markdown",
      "metadata": {
        "id": "LZ5QbWEs_ewQ"
      },
      "source": [
        "## Train Classifier"
      ]
    },
    {
      "cell_type": "code",
      "execution_count": 42,
      "metadata": {
        "id": "BpLNitW8_ewQ"
      },
      "outputs": [],
      "source": [
        "THRESHOLD = 0.99\n",
        "recon_data = [reconstruct_data(gae_model.double(),node_model.double(),data,threshold=THRESHOLD) for data in train_data]\n",
        "recon_data = [data.to(device) for data in recon_data]"
      ]
    },
    {
      "cell_type": "code",
      "execution_count": 43,
      "metadata": {
        "id": "k9Dak37gEa3d"
      },
      "outputs": [],
      "source": [
        "def test(model,dataset):\n",
        "    gnn_trainer = GNN_trainer(model)\n",
        "    test_metric_manager = metric_manager(['val'])\n",
        "\n",
        "    for data in dataset:\n",
        "\n",
        "        idx = data.classified_idx\n",
        "        y = data.y[idx].cpu()\n",
        "        res = gnn_trainer.predict(data,False)\n",
        "\n",
        "        pred = res['pred_labels'][idx]\n",
        "        pred = torch.tensor(pred)\n",
        "\n",
        "        test_metric_manager.store_metrics('val',pred,y,0)\n",
        "\n",
        "    return test_metric_manager\n",
        "\n",
        "def train(model,train_data,name):\n",
        "    # Push data to GPU\n",
        "\n",
        "    # Setup training settings\n",
        "    optimizer = torch.optim.Adam(model.parameters(), lr=args['lr'], weight_decay=args['weight_decay'])\n",
        "    criterion = torch.nn.BCELoss()\n",
        "\n",
        "    # Train\n",
        "    gnn_trainer = GNN_trainer(model)\n",
        "\n",
        "    gnn_trainer.train(train_data, optimizer, criterion, args)\n",
        "    mm = test(model,test_data)\n",
        "    file_to_store = open(FOLDERNAME + f\"/save_results/{name}_future.results\", \"wb\")\n",
        "    pickle.dump(mm, file_to_store)\n",
        "    file_to_store.close()\n",
        "\n",
        "    gnn_trainer.save_metrics(f\"{name}.results\", path=FOLDERNAME + \"/save_results/\")\n",
        "    gnn_trainer.save_model(f\"{name}.pth\", path=FOLDERNAME + \"/save_results/\")\n",
        "\n",
        "    return gnn_trainer"
      ]
    },
    {
      "cell_type": "code",
      "execution_count": 44,
      "metadata": {
        "colab": {
          "base_uri": "https://localhost:8080/"
        },
        "id": "Epim8gvAEa3f",
        "outputId": "a44322bb-69da-470a-b36c-c1af63fdcbd6"
      },
      "outputs": [
        {
          "name": "stdout",
          "output_type": "stream",
          "text": [
            "Prebuilt GCN from PyG\n",
            "epoch: 0 - loss: 0.0006 - accuracy train: 0.8403 - accuracy valid: 0.8388  - val roc: 0.6531  - val f1micro: 0.8388\n",
            "epoch: 5 - loss: 0.0002 - accuracy train: 0.9326 - accuracy valid: 0.9236  - val roc: 0.9138  - val f1micro: 0.9236\n",
            "epoch: 10 - loss: 0.0002 - accuracy train: 0.9635 - accuracy valid: 0.9527  - val roc: 0.9324  - val f1micro: 0.9527\n",
            "epoch: 15 - loss: 0.0002 - accuracy train: 0.9619 - accuracy valid: 0.9439  - val roc: 0.9213  - val f1micro: 0.9439\n",
            "epoch: 20 - loss: 0.0001 - accuracy train: 0.9770 - accuracy valid: 0.9563  - val roc: 0.9475  - val f1micro: 0.9563\n",
            "Prebuilt GAT from PyG\n",
            "epoch: 0 - loss: 0.0005 - accuracy train: 0.8659 - accuracy valid: 0.8653  - val roc: 0.8081  - val f1micro: 0.8653\n",
            "epoch: 5 - loss: 0.0002 - accuracy train: 0.9513 - accuracy valid: 0.9493  - val roc: 0.9662  - val f1micro: 0.9493\n",
            "epoch: 10 - loss: 0.0002 - accuracy train: 0.9644 - accuracy valid: 0.9584  - val roc: 0.9744  - val f1micro: 0.9584\n",
            "epoch: 15 - loss: 0.0001 - accuracy train: 0.9664 - accuracy valid: 0.9646  - val roc: 0.9758  - val f1micro: 0.9646\n",
            "epoch: 20 - loss: 0.0001 - accuracy train: 0.9674 - accuracy valid: 0.9602  - val roc: 0.9753  - val f1micro: 0.9602\n",
            "Prebuilt GATv2 from PyG\n",
            "epoch: 0 - loss: 0.0004 - accuracy train: 0.8611 - accuracy valid: 0.8606  - val roc: 0.8203  - val f1micro: 0.8606\n",
            "epoch: 5 - loss: 0.0002 - accuracy train: 0.9610 - accuracy valid: 0.9610  - val roc: 0.9764  - val f1micro: 0.9610\n",
            "epoch: 10 - loss: 0.0001 - accuracy train: 0.9684 - accuracy valid: 0.9664  - val roc: 0.9799  - val f1micro: 0.9664\n",
            "epoch: 15 - loss: 0.0001 - accuracy train: 0.9706 - accuracy valid: 0.9693  - val roc: 0.9777  - val f1micro: 0.9693\n",
            "epoch: 20 - loss: 0.0001 - accuracy train: 0.9752 - accuracy valid: 0.9691  - val roc: 0.9814  - val f1micro: 0.9691\n"
          ]
        },
        {
          "data": {
            "text/plain": [
              "<__main__.GNN_trainer at 0x21c64c52e90>"
            ]
          },
          "execution_count": 44,
          "metadata": {},
          "output_type": "execute_result"
        }
      ],
      "source": [
        "model = GCN(42)\n",
        "print(\"Prebuilt GCN from PyG\")\n",
        "gnn_trainer = train(model.double().to(device),train_data+train_data,\"GCN\")\n",
        "\n",
        "\n",
        "model = GAT(train_data[0].num_node_features, args['hidden_dim'], 1, args)\n",
        "print(\"Prebuilt GAT from PyG\")\n",
        "gnn_trainer = train(model.double().to(device),train_data+train_data,\"GAT\")\n",
        "\n",
        "\n",
        "model = GATv2(train_data[0].num_node_features, args['hidden_dim'], 1, args)\n",
        "print(\"Prebuilt GATv2 from PyG\")\n",
        "train(model.double().to(device),train_data+train_data,\"GATv2\")"
      ]
    },
    {
      "cell_type": "code",
      "execution_count": 45,
      "metadata": {
        "colab": {
          "base_uri": "https://localhost:8080/"
        },
        "id": "RteyhKgFAh9-",
        "outputId": "f166406b-853a-4520-8881-0cc8494f7839"
      },
      "outputs": [
        {
          "name": "stdout",
          "output_type": "stream",
          "text": [
            "Prebuilt GCN from PyG\n",
            "epoch: 0 - loss: 0.0006 - accuracy train: 0.8505 - accuracy valid: 0.8497  - val roc: 0.4894  - val f1micro: 0.8497\n",
            "epoch: 5 - loss: 0.0003 - accuracy train: 0.9357 - accuracy valid: 0.9366  - val roc: 0.8211  - val f1micro: 0.9366\n",
            "epoch: 10 - loss: 0.0003 - accuracy train: 0.9395 - accuracy valid: 0.9397  - val roc: 0.8243  - val f1micro: 0.9397\n",
            "epoch: 15 - loss: 0.0002 - accuracy train: 0.9403 - accuracy valid: 0.9368  - val roc: 0.9419  - val f1micro: 0.9368\n",
            "epoch: 20 - loss: 0.0002 - accuracy train: 0.9451 - accuracy valid: 0.9419  - val roc: 0.9491  - val f1micro: 0.9419\n",
            "Prebuilt GAT from PyG\n"
          ]
        },
        {
          "ename": "OutOfMemoryError",
          "evalue": "CUDA out of memory. Tried to allocate 400.00 MiB (GPU 0; 3.00 GiB total capacity; 2.30 GiB already allocated; 0 bytes free; 2.45 GiB reserved in total by PyTorch) If reserved memory is >> allocated memory try setting max_split_size_mb to avoid fragmentation.  See documentation for Memory Management and PYTORCH_CUDA_ALLOC_CONF",
          "output_type": "error",
          "traceback": [
            "\u001b[1;31m---------------------------------------------------------------------------\u001b[0m",
            "\u001b[1;31mOutOfMemoryError\u001b[0m                          Traceback (most recent call last)",
            "Cell \u001b[1;32mIn[45], line 8\u001b[0m\n\u001b[0;32m      6\u001b[0m model \u001b[39m=\u001b[39m GAT(train_data[\u001b[39m0\u001b[39m]\u001b[39m.\u001b[39mnum_node_features, args[\u001b[39m'\u001b[39m\u001b[39mhidden_dim\u001b[39m\u001b[39m'\u001b[39m], \u001b[39m1\u001b[39m, args)\n\u001b[0;32m      7\u001b[0m \u001b[39mprint\u001b[39m(\u001b[39m\"\u001b[39m\u001b[39mPrebuilt GAT from PyG\u001b[39m\u001b[39m\"\u001b[39m)\n\u001b[1;32m----> 8\u001b[0m gnn_trainer \u001b[39m=\u001b[39m train(model\u001b[39m.\u001b[39;49mdouble()\u001b[39m.\u001b[39;49mto(device),recon_data\u001b[39m+\u001b[39;49mrecon_data,\u001b[39m\"\u001b[39;49m\u001b[39mGAT_recon\u001b[39;49m\u001b[39m\"\u001b[39;49m)\n\u001b[0;32m     11\u001b[0m model \u001b[39m=\u001b[39m GATv2(train_data[\u001b[39m0\u001b[39m]\u001b[39m.\u001b[39mnum_node_features, args[\u001b[39m'\u001b[39m\u001b[39mhidden_dim\u001b[39m\u001b[39m'\u001b[39m], \u001b[39m1\u001b[39m, args)\n\u001b[0;32m     12\u001b[0m \u001b[39mprint\u001b[39m(\u001b[39m\"\u001b[39m\u001b[39mPrebuilt GATv2 from PyG\u001b[39m\u001b[39m\"\u001b[39m)\n",
            "Cell \u001b[1;32mIn[43], line 28\u001b[0m, in \u001b[0;36mtrain\u001b[1;34m(model, train_data, name)\u001b[0m\n\u001b[0;32m     25\u001b[0m \u001b[39m# Train\u001b[39;00m\n\u001b[0;32m     26\u001b[0m gnn_trainer \u001b[39m=\u001b[39m GNN_trainer(model)\n\u001b[1;32m---> 28\u001b[0m gnn_trainer\u001b[39m.\u001b[39;49mtrain(train_data, optimizer, criterion, args)\n\u001b[0;32m     29\u001b[0m mm \u001b[39m=\u001b[39m test(model,test_data)\n\u001b[0;32m     30\u001b[0m file_to_store \u001b[39m=\u001b[39m \u001b[39mopen\u001b[39m(FOLDERNAME \u001b[39m+\u001b[39m \u001b[39mf\u001b[39m\u001b[39m\"\u001b[39m\u001b[39m/save_results/\u001b[39m\u001b[39m{\u001b[39;00mname\u001b[39m}\u001b[39;00m\u001b[39m_future.results\u001b[39m\u001b[39m\"\u001b[39m, \u001b[39m\"\u001b[39m\u001b[39mwb\u001b[39m\u001b[39m\"\u001b[39m)\n",
            "Cell \u001b[1;32mIn[37], line 51\u001b[0m, in \u001b[0;36mGNN_trainer.train\u001b[1;34m(self, train_dataset, optimizer, criterion, args)\u001b[0m\n\u001b[0;32m     49\u001b[0m \u001b[39mfor\u001b[39;00m epoch \u001b[39min\u001b[39;00m \u001b[39mrange\u001b[39m(args[\u001b[39m'\u001b[39m\u001b[39mepochs\u001b[39m\u001b[39m'\u001b[39m]):\n\u001b[0;32m     50\u001b[0m     fn \u001b[39m=\u001b[39m \u001b[39mlambda\u001b[39;00m: \u001b[39mself\u001b[39m\u001b[39m.\u001b[39mtrain_step(train_dataset, optimizer, criterion, args)\n\u001b[1;32m---> 51\u001b[0m     train_preds, train_targets, test_preds,test_targets,train_loss,test_loss  \u001b[39m=\u001b[39m fn()\n\u001b[0;32m     53\u001b[0m     \u001b[39mself\u001b[39m\u001b[39m.\u001b[39mmetric_manager\u001b[39m.\u001b[39mstore_metrics(\u001b[39m\"\u001b[39m\u001b[39mtrain\u001b[39m\u001b[39m\"\u001b[39m, train_preds, train_targets,train_loss)\n\u001b[0;32m     54\u001b[0m     \u001b[39mself\u001b[39m\u001b[39m.\u001b[39mmetric_manager\u001b[39m.\u001b[39mstore_metrics(\u001b[39m\"\u001b[39m\u001b[39mval\u001b[39m\u001b[39m\"\u001b[39m, test_preds, test_targets,test_loss)\n",
            "Cell \u001b[1;32mIn[37], line 50\u001b[0m, in \u001b[0;36mGNN_trainer.train.<locals>.<lambda>\u001b[1;34m()\u001b[0m\n\u001b[0;32m     48\u001b[0m \u001b[39mself\u001b[39m\u001b[39m.\u001b[39mtrain_dataset \u001b[39m=\u001b[39m train_dataset\n\u001b[0;32m     49\u001b[0m \u001b[39mfor\u001b[39;00m epoch \u001b[39min\u001b[39;00m \u001b[39mrange\u001b[39m(args[\u001b[39m'\u001b[39m\u001b[39mepochs\u001b[39m\u001b[39m'\u001b[39m]):\n\u001b[1;32m---> 50\u001b[0m     fn \u001b[39m=\u001b[39m \u001b[39mlambda\u001b[39;00m: \u001b[39mself\u001b[39;49m\u001b[39m.\u001b[39;49mtrain_step(train_dataset, optimizer, criterion, args)\n\u001b[0;32m     51\u001b[0m     train_preds, train_targets, test_preds,test_targets,train_loss,test_loss  \u001b[39m=\u001b[39m fn()\n\u001b[0;32m     53\u001b[0m     \u001b[39mself\u001b[39m\u001b[39m.\u001b[39mmetric_manager\u001b[39m.\u001b[39mstore_metrics(\u001b[39m\"\u001b[39m\u001b[39mtrain\u001b[39m\u001b[39m\"\u001b[39m, train_preds, train_targets,train_loss)\n",
            "Cell \u001b[1;32mIn[37], line 30\u001b[0m, in \u001b[0;36mGNN_trainer.train_step\u001b[1;34m(self, train_dataset, optimizer, criterion, args)\u001b[0m\n\u001b[0;32m     28\u001b[0m optimizer\u001b[39m.\u001b[39mzero_grad()\n\u001b[0;32m     29\u001b[0m loss \u001b[39m=\u001b[39m criterion(out[data\u001b[39m.\u001b[39mtrain_idx], data\u001b[39m.\u001b[39my[data\u001b[39m.\u001b[39mtrain_idx])\n\u001b[1;32m---> 30\u001b[0m loss\u001b[39m.\u001b[39;49mbackward()\n\u001b[0;32m     31\u001b[0m optimizer\u001b[39m.\u001b[39mstep()\n\u001b[0;32m     32\u001b[0m train_losses\u001b[39m.\u001b[39mappend(loss\u001b[39m.\u001b[39mitem())\n",
            "File \u001b[1;32m~\\AppData\\Roaming\\Python\\Python310\\site-packages\\torch\\_tensor.py:487\u001b[0m, in \u001b[0;36mTensor.backward\u001b[1;34m(self, gradient, retain_graph, create_graph, inputs)\u001b[0m\n\u001b[0;32m    477\u001b[0m \u001b[39mif\u001b[39;00m has_torch_function_unary(\u001b[39mself\u001b[39m):\n\u001b[0;32m    478\u001b[0m     \u001b[39mreturn\u001b[39;00m handle_torch_function(\n\u001b[0;32m    479\u001b[0m         Tensor\u001b[39m.\u001b[39mbackward,\n\u001b[0;32m    480\u001b[0m         (\u001b[39mself\u001b[39m,),\n\u001b[1;32m   (...)\u001b[0m\n\u001b[0;32m    485\u001b[0m         inputs\u001b[39m=\u001b[39minputs,\n\u001b[0;32m    486\u001b[0m     )\n\u001b[1;32m--> 487\u001b[0m torch\u001b[39m.\u001b[39;49mautograd\u001b[39m.\u001b[39;49mbackward(\n\u001b[0;32m    488\u001b[0m     \u001b[39mself\u001b[39;49m, gradient, retain_graph, create_graph, inputs\u001b[39m=\u001b[39;49minputs\n\u001b[0;32m    489\u001b[0m )\n",
            "File \u001b[1;32m~\\AppData\\Roaming\\Python\\Python310\\site-packages\\torch\\autograd\\__init__.py:200\u001b[0m, in \u001b[0;36mbackward\u001b[1;34m(tensors, grad_tensors, retain_graph, create_graph, grad_variables, inputs)\u001b[0m\n\u001b[0;32m    195\u001b[0m     retain_graph \u001b[39m=\u001b[39m create_graph\n\u001b[0;32m    197\u001b[0m \u001b[39m# The reason we repeat same the comment below is that\u001b[39;00m\n\u001b[0;32m    198\u001b[0m \u001b[39m# some Python versions print out the first line of a multi-line function\u001b[39;00m\n\u001b[0;32m    199\u001b[0m \u001b[39m# calls in the traceback and some print out the last line\u001b[39;00m\n\u001b[1;32m--> 200\u001b[0m Variable\u001b[39m.\u001b[39;49m_execution_engine\u001b[39m.\u001b[39;49mrun_backward(  \u001b[39m# Calls into the C++ engine to run the backward pass\u001b[39;49;00m\n\u001b[0;32m    201\u001b[0m     tensors, grad_tensors_, retain_graph, create_graph, inputs,\n\u001b[0;32m    202\u001b[0m     allow_unreachable\u001b[39m=\u001b[39;49m\u001b[39mTrue\u001b[39;49;00m, accumulate_grad\u001b[39m=\u001b[39;49m\u001b[39mTrue\u001b[39;49;00m)\n",
            "\u001b[1;31mOutOfMemoryError\u001b[0m: CUDA out of memory. Tried to allocate 400.00 MiB (GPU 0; 3.00 GiB total capacity; 2.30 GiB already allocated; 0 bytes free; 2.45 GiB reserved in total by PyTorch) If reserved memory is >> allocated memory try setting max_split_size_mb to avoid fragmentation.  See documentation for Memory Management and PYTORCH_CUDA_ALLOC_CONF"
          ]
        }
      ],
      "source": [
        "model = GCN(42)\n",
        "print(\"Prebuilt GCN from PyG\")\n",
        "gnn_trainer = train(model.double().to(device),recon_data+recon_data,\"GCN_recon\")\n",
        "\n",
        "\n",
        "model = GAT(train_data[0].num_node_features, args['hidden_dim'], 1, args)\n",
        "print(\"Prebuilt GAT from PyG\")\n",
        "gnn_trainer = train(model.double().to(device),recon_data+recon_data,\"GAT_recon\")\n",
        "\n",
        "\n",
        "model = GATv2(train_data[0].num_node_features, args['hidden_dim'], 1, args)\n",
        "print(\"Prebuilt GATv2 from PyG\")\n",
        "train(model.double().to(device),recon_data+recon_data,\"GATv2_recon\")"
      ]
    },
    {
      "cell_type": "code",
      "execution_count": null,
      "metadata": {
        "colab": {
          "base_uri": "https://localhost:8080/"
        },
        "id": "7lDuU3RJ_ewR",
        "outputId": "fa2d38e1-ff25-4500-c28c-248e3ee76bfc"
      },
      "outputs": [
        {
          "ename": "",
          "evalue": "",
          "output_type": "error",
          "traceback": [
            "\u001b[1;31mThe kernel failed to start as the Python Environment '.env' is no longer available. Consider selecting another kernel or refreshing the list of Python Environments."
          ]
        }
      ],
      "source": [
        "model = GCN(42)\n",
        "print(\"Prebuilt GCN from PyG\")\n",
        "gnn_trainer = train(model.double().to(device),recon_data+train_data,\"GCN_mix\")\n",
        "\n",
        "\n",
        "model = GAT(train_data[0].num_node_features, args['hidden_dim'], 1, args)\n",
        "print(\"Prebuilt GAT from PyG\")\n",
        "gnn_trainer = train(model.double().to(device),recon_data+train_data,\"GAT_mix\")\n",
        "\n",
        "\n",
        "model = GATv2(train_data[0].num_node_features, args['hidden_dim'], 1, args)\n",
        "print(\"Prebuilt GATv2 from PyG\")\n",
        "train(model.double().to(device),recon_data+train_data,\"GATv2_mix\")"
      ]
    },
    {
      "cell_type": "code",
      "execution_count": null,
      "metadata": {
        "colab": {
          "base_uri": "https://localhost:8080/"
        },
        "id": "TYDrzVSofMZX",
        "outputId": "a343157c-9eb3-4da4-dea8-0d03686e881b"
      },
      "outputs": [
        {
          "ename": "",
          "evalue": "",
          "output_type": "error",
          "traceback": [
            "\u001b[1;31mThe kernel failed to start as the Python Environment '.env' is no longer available. Consider selecting another kernel or refreshing the list of Python Environments."
          ]
        }
      ],
      "source": [
        "def zip_result():\n",
        "    if is_colab():\n",
        "        !zip -r '/content/drive/MyDrive/data science project/save_results' save_results\n",
        "    else:\n",
        "        !zip -r save_results.zip save_results\n",
        "zip_result()"
      ]
    },
    {
      "attachments": {},
      "cell_type": "markdown",
      "metadata": {
        "id": "uGSHiN3TMEz4"
      },
      "source": [
        "You can also run our custom models GATmodif and GATv2modif by setting in args, prebuild=False or run with GATmodif_3layer: \\\\\n",
        "```model = GATmodif_3layer(data_train.num_node_features, args['hidden_dim'], 1, args) ``` \\\\\n",
        "After training few models, you can load your saved outputs. Here we load the outputs of GAT and GATv2 from builtin PyG."
      ]
    },
    {
      "cell_type": "code",
      "execution_count": null,
      "metadata": {
        "colab": {
          "base_uri": "https://localhost:8080/"
        },
        "id": "0nOsnV_Sf_Bf",
        "outputId": "ae172cdc-8d0b-404d-dc6e-b2f46e00b918"
      },
      "outputs": [
        {
          "ename": "",
          "evalue": "",
          "output_type": "error",
          "traceback": [
            "\u001b[1;31mThe kernel failed to start as the Python Environment '.env' is no longer available. Consider selecting another kernel or refreshing the list of Python Environments."
          ]
        }
      ],
      "source": [
        "# Fetch results from saved\n",
        "fn=\"GAT.results\"\n",
        "metric_manager_GAT = pickle.load(open(f\"{FOLDERNAME}/save_results/{fn}\", \"rb\"))\n",
        "metric_manager_GAT.get_best(\"aucroc\")"
      ]
    },
    {
      "attachments": {},
      "cell_type": "markdown",
      "metadata": {
        "id": "bwzY1wDUuUOS"
      },
      "source": [
        "# Performance visualization\n",
        "Then we can compare the performance of our models by plotting the results with a selected metric.\n"
      ]
    },
    {
      "attachments": {},
      "cell_type": "markdown",
      "metadata": {
        "id": "JJRUoyuXSyt8"
      },
      "source": [
        "## Training Cross Comparisons 1"
      ]
    },
    {
      "cell_type": "code",
      "execution_count": null,
      "metadata": {
        "id": "PWdh8k4Nnvpa"
      },
      "outputs": [
        {
          "ename": "",
          "evalue": "",
          "output_type": "error",
          "traceback": [
            "\u001b[1;31mThe kernel failed to start as the Python Environment '.env' is no longer available. Consider selecting another kernel or refreshing the list of Python Environments."
          ]
        }
      ],
      "source": [
        "def plot_training_comp(metric_manager_list, names, metrics=(\"aucroc\",),version=('val','train'),title=\"Training History\"):\n",
        "    # from itertools import cycle\n",
        "    # linestyles = cycle(['solid'])\n",
        "    fig,axs = plt.subplots(len(metrics),1,figsize=(6,len(metrics)*2))\n",
        "    axs = axs.flatten() if len(metrics) > 1 else [axs]\n",
        "    linestyles = ['solid', 'dashed', 'dotted']\n",
        "    for ax,metric in zip(axs,metrics):\n",
        "        for name,metric_manager in zip(names,metric_manager_list):\n",
        "            ax.set_title(title)\n",
        "            for v,ls in zip(version,linestyles):\n",
        "                y = metric_manager.output[v][metric]\n",
        "                epochs = np.arange(len(y))\n",
        "                ax.plot(epochs,y,label=f'{v} {name}',ls=ls)\n",
        "\n",
        "            # ax.legend()\n",
        "            ax.set_xlabel('epoch')\n",
        "            ax.set_ylabel(metric)\n",
        "    handles, labels = fig.axes[0].get_legend_handles_labels()\n",
        "    fig.legend(handles, labels)\n",
        "    fig.show()\n",
        "    return fig,axs\n",
        "\n",
        "def plot_timestep_comp(metric_manager_list, names, metrics=(\"aucroc\",), version=\"val\",title=\"Val set comparison\",xlabel='timesteps'):\n",
        "    # from itertools import cycle\n",
        "    # linestyles = cycle(['solid'])\n",
        "    fig,axs = plt.subplots(len(metrics),1,figsize=(6,len(metrics)*2))\n",
        "    plt.subplots_adjust(hspace=0.6)\n",
        "    axs = axs.flatten() if len(metrics) > 1 else [axs]\n",
        "    linestyles = ['solid', 'dashed', 'dashdot', 'dotted']\n",
        "    fig.suptitle(title)\n",
        "    for ax,metric in zip(axs,metrics):\n",
        "        for name,metric_manager,ls in zip(names,metric_manager_list,linestyles):\n",
        "            # ax.set_title(title)\n",
        "            y = metric_manager.output[version][metric]\n",
        "            epochs = np.arange(len(y))\n",
        "            ax.plot(epochs,y,label=name,ls=ls)\n",
        "            ax.set_xlabel(xlabel)\n",
        "            ax.set_ylabel(metric)\n",
        "\n",
        "    handles, labels = fig.axes[0].get_legend_handles_labels()\n",
        "    fig.legend(handles, labels)\n",
        "    fig.show()\n",
        "    return fig,axs\n",
        "\n",
        "# Load saved outputs\n",
        "def load_results(fn):\n",
        "    mm1 = pickle.load(open(FOLDERNAME + \"save_results/\" + fn, \"rb\"))\n",
        "    return mm1\n",
        "\n",
        "def load_model_state_dict(name):\n",
        "    return torch.load(FOLDERNAME + f'save_results/{name}.pth')"
      ]
    },
    {
      "cell_type": "code",
      "execution_count": null,
      "metadata": {
        "colab": {
          "base_uri": "https://localhost:8080/",
          "height": 963
        },
        "id": "slYUqYo2Syt9",
        "outputId": "d06f9ba4-9ec2-42dd-eb3c-809d78c835f2"
      },
      "outputs": [
        {
          "ename": "",
          "evalue": "",
          "output_type": "error",
          "traceback": [
            "\u001b[1;31mThe kernel failed to start as the Python Environment '.env' is no longer available. Consider selecting another kernel or refreshing the list of Python Environments."
          ]
        }
      ],
      "source": [
        "metric_managers = []\n",
        "names = ['GAT','GAT_mix','GAT_recon']\n",
        "\n",
        "for name in names:\n",
        "    model = GAT(train_data[0].num_node_features, args['hidden_dim'], 1, args)\n",
        "    model = model.to(device)\n",
        "    model.load_state_dict(load_model_state_dict(name))\n",
        "    gnn = test(model.double(),train_data + test_data)\n",
        "    metric_managers.append(gnn)\n",
        "\n",
        "fig,axs = plot_timestep_comp(metric_managers,\n",
        "                             names,\n",
        "                             [\"accuracy\",\"f1micro\",\"aucroc\",\"recall\",\"precision\"],\n",
        "                             title='GAT trained with different dataset',\n",
        "                             xlabel='timesteps')\n",
        "for ax in axs.flatten():\n",
        "    ax.axvline(x=len(train_data)-1,color='black', linestyle='dotted', alpha=0.5)\n",
        "\n",
        "savefig(fig,'GAT_different_dataset_comp')"
      ]
    },
    {
      "cell_type": "code",
      "execution_count": null,
      "metadata": {
        "colab": {
          "base_uri": "https://localhost:8080/",
          "height": 963
        },
        "id": "ZMtyjUYISyt-",
        "outputId": "bc3c8f4d-bb5e-4d9c-a291-fd82dce24548"
      },
      "outputs": [
        {
          "ename": "",
          "evalue": "",
          "output_type": "error",
          "traceback": [
            "\u001b[1;31mThe kernel failed to start as the Python Environment '.env' is no longer available. Consider selecting another kernel or refreshing the list of Python Environments."
          ]
        }
      ],
      "source": [
        "metric_managers = []\n",
        "names = ['GATv2','GATv2_mix','GATv2_recon']\n",
        "\n",
        "for name in names:\n",
        "    model = GATv2(train_data[0].num_node_features, args['hidden_dim'], 1, args)\n",
        "    model = model.to(device)\n",
        "    model.load_state_dict(load_model_state_dict(name))\n",
        "    gnn = test(model.double(),train_data + test_data)\n",
        "    metric_managers.append(gnn)\n",
        "\n",
        "fig,axs = plot_timestep_comp(metric_managers,\n",
        "                             names,\n",
        "                             [\"accuracy\",\"f1micro\",\"aucroc\",\"recall\",\"precision\"],\n",
        "                             title='GATv2 trained with different dataset',\n",
        "                             xlabel='timesteps')\n",
        "for ax in axs.flatten():\n",
        "    ax.axvline(x=len(train_data)-1,color='black', linestyle='dotted', alpha=0.5)\n",
        "\n",
        "savefig(fig,'GATv2_different_dataset_comp')"
      ]
    },
    {
      "cell_type": "code",
      "execution_count": null,
      "metadata": {
        "colab": {
          "base_uri": "https://localhost:8080/",
          "height": 963
        },
        "id": "3uItlU2RSyt_",
        "outputId": "11d1c237-17de-47de-a111-ccc60f537cf6"
      },
      "outputs": [
        {
          "ename": "",
          "evalue": "",
          "output_type": "error",
          "traceback": [
            "\u001b[1;31mThe kernel failed to start as the Python Environment '.env' is no longer available. Consider selecting another kernel or refreshing the list of Python Environments."
          ]
        }
      ],
      "source": [
        "metric_managers = []\n",
        "names = ['GCN','GCN_mix','GCN_recon']\n",
        "\n",
        "for name in names:\n",
        "    model = GCN(42).to(device)\n",
        "    model.load_state_dict(load_model_state_dict(name))\n",
        "    gnn = test(model.double(),train_data+test_data)\n",
        "    metric_managers.append(gnn)\n",
        "\n",
        "fig,axs = plot_timestep_comp(metric_managers,\n",
        "                   names,\n",
        "                   [\"accuracy\",\"f1micro\",\"aucroc\",\"recall\",\"precision\"],\n",
        "                   title='CGN trained with different dataset',\n",
        "                   xlabel='timesteps')\n",
        "\n",
        "for ax in axs.flatten():\n",
        "    ax.axvline(x=len(train_data)-1,color='black', linestyle='dotted', alpha=0.5)\n",
        "\n",
        "savefig(fig,'GCN_different_dataset_comp')"
      ]
    },
    {
      "cell_type": "code",
      "execution_count": null,
      "metadata": {
        "colab": {
          "base_uri": "https://localhost:8080/",
          "height": 963
        },
        "id": "COVzVinDSyuA",
        "outputId": "4a228eec-8a0c-44be-d92e-79cc6470b1c6"
      },
      "outputs": [
        {
          "ename": "",
          "evalue": "",
          "output_type": "error",
          "traceback": [
            "\u001b[1;31mThe kernel failed to start as the Python Environment '.env' is no longer available. Consider selecting another kernel or refreshing the list of Python Environments."
          ]
        }
      ],
      "source": [
        "model_ctor = [GCN(42),\n",
        "              GAT(train_data[0].num_node_features, args['hidden_dim'], 1, args),\n",
        "              GATv2(train_data[0].num_node_features, args['hidden_dim'], 1, args)]\n",
        "metric_managers = []\n",
        "names = ['GCN','GAT','GATv2']\n",
        "\n",
        "for model,name in zip(model_ctor,names):\n",
        "    model.to(device)\n",
        "    model.load_state_dict(load_model_state_dict(name))\n",
        "    gnn = test(model.double(),train_data+test_data)\n",
        "    metric_managers.append(gnn)\n",
        "\n",
        "fig,axs = plot_timestep_comp(metric_managers,\n",
        "                   names,\n",
        "                   [\"accuracy\",\"aucroc\",\"f1micro\",\"recall\",\"precision\"],\n",
        "                   xlabel='timesteps',\n",
        "                   title='Different Model Comparison')\n",
        "\n",
        "for ax in axs.flatten():\n",
        "    ax.axvline(x=len(train_data)-1,color='black', linestyle='dotted', alpha=0.5)\n",
        "\n",
        "savefig(fig,'model_comp_1')"
      ]
    },
    {
      "cell_type": "code",
      "execution_count": null,
      "metadata": {
        "colab": {
          "base_uri": "https://localhost:8080/"
        },
        "id": "6jc-4neFJAzR",
        "outputId": "f21504f3-dfa1-45a8-927c-b380c6abf0dd"
      },
      "outputs": [
        {
          "ename": "",
          "evalue": "",
          "output_type": "error",
          "traceback": [
            "\u001b[1;31mThe kernel failed to start as the Python Environment '.env' is no longer available. Consider selecting another kernel or refreshing the list of Python Environments."
          ]
        }
      ],
      "source": [
        "model = GCN(42).to(device)\n",
        "model.load_state_dict(load_model_state_dict('GCN'))\n",
        "\n",
        "model_2 = GCN(42).to(device)\n",
        "model_2.load_state_dict(load_model_state_dict('GCN_recon'))\n",
        "\n",
        "metric_managers = [test(model.double(),train_data),\n",
        "                   test(model_2.double(),train_data)]\n",
        "\n",
        "names = ['GCN','GCN_recon']\n",
        "\n",
        "mean = lambda t: torch.tensor(t).mean().round(decimals=4).item()\n",
        "\n",
        "output1 = metric_managers[0].output['val']\n",
        "output2 = metric_managers[1].output['val']\n",
        "\n",
        "metrics = \"f1micro accuracy recall precision\".split()\n",
        "\n",
        "# plot_timestep_comp(metric_managers,\n",
        "#                    names,\n",
        "#                    [\"accuracy\",\"f1micro\",\"aucroc\",\"recall\",\"precision\"],\n",
        "#                    xlabel='timesteps')\n",
        "f = lambda m : (mean(output1[m]), mean(output2[m]))\n",
        "{\n",
        "    # 'f1micro': (mean(output1['f1micro']), mean(output2['f1micro'])),\n",
        "    m:f(m) for m in metrics\n",
        "}"
      ]
    },
    {
      "attachments": {},
      "cell_type": "markdown",
      "metadata": {
        "id": "ZO-NPPaaJkJe"
      },
      "source": [
        "## Graph visualization\n",
        "Now after training previous models, we can also visualize our predicted labels nodes as licit or illicit.We are going to show the graph for one time period."
      ]
    },
    {
      "cell_type": "code",
      "execution_count": null,
      "metadata": {
        "colab": {
          "base_uri": "https://localhost:8080/",
          "height": 1000
        },
        "id": "JuVZNCdz_ewU",
        "outputId": "40eaa20c-04ba-4ef8-b6ca-ba0b381ae1fd"
      },
      "outputs": [
        {
          "ename": "",
          "evalue": "",
          "output_type": "error",
          "traceback": [
            "\u001b[1;31mThe kernel failed to start as the Python Environment '.env' is no longer available. Consider selecting another kernel or refreshing the list of Python Environments."
          ]
        }
      ],
      "source": [
        "def plot_graph(data,output,time_period=None,directed=False):\n",
        "    id_to_node = data.id_to_node\n",
        "    edge_index = data.edge_index.cpu().numpy().T\n",
        "\n",
        "    node_color = []\n",
        "    for node_id in id_to_node.keys():\n",
        "        if node_id in data.classified_illicit_idx:\n",
        "            label = \"red\" # fraud\n",
        "        elif node_id in data.classified_licit_idx:\n",
        "            label = \"green\" # fraud\n",
        "        elif output['pred_labels'][node_id]:\n",
        "            label = \"orange\" # Predicted fraud\n",
        "        else:\n",
        "            label = \"blue\" # Not fraud predicted\n",
        "        node_color.append(label)\n",
        "\n",
        "    # Setup networkx graph\n",
        "    if directed is True:\n",
        "        G = nx.DiGraph()\n",
        "    else:\n",
        "        G = nx.Graph()\n",
        "    G.add_edges_from(edge_index)\n",
        "\n",
        "    # Plot the graph\n",
        "    plt.figure(3,figsize=(16,16))\n",
        "    plt.title(\"Time period:\"+str(time_period))\n",
        "\n",
        "    # spring layout\n",
        "    nx.draw_networkx(G, node_color=node_color, node_size=20,\n",
        "                     with_labels=False,arrowsize=5)\n",
        "\n",
        "    legend_elements = [plt.Line2D([0], [0], marker='o', color='w', markerfacecolor=color, markersize=10) for color in ['red','green','orange','blue']]\n",
        "    plt.legend(legend_elements, ['illicit','licit','predicted illicit','predicted licit'])\n",
        "\n",
        "# Load one model\n",
        "model = GAT(train_data[0].num_node_features, args['hidden_dim'], 1, args).to(device).double()\n",
        "model.load_state_dict(torch.load(FOLDERNAME + \"/save_results/\" + \"GATprebuilt.pth\"))\n",
        "gnn = GNN_trainer(model)\n",
        "output = gnn.predict(data=train_data[0], unclassified_only=False)\n",
        "\n",
        "time_period = 12\n",
        "data = train_data[time_period]\n",
        "output = gnn.predict(data=data, unclassified_only=False)\n",
        "\n",
        "id_to_node = train_data[time_period].id_to_node\n",
        "edge_index = train_data[time_period].edge_index.cpu().numpy().T\n",
        "\n",
        "plot_graph(data,output,time_period)\n",
        "savefig(plt,f'full_transaction_graph_{time_period}')"
      ]
    },
    {
      "attachments": {},
      "cell_type": "markdown",
      "metadata": {
        "id": "FUPkbVaYAJaf"
      },
      "source": [
        "## Training Cross comparisons 2"
      ]
    },
    {
      "cell_type": "code",
      "execution_count": null,
      "metadata": {
        "colab": {
          "base_uri": "https://localhost:8080/",
          "height": 256
        },
        "id": "CxN-WMRDSyuC",
        "outputId": "6d5e48a7-383f-43f1-b42b-5aeba5aa9c69"
      },
      "outputs": [
        {
          "ename": "",
          "evalue": "",
          "output_type": "error",
          "traceback": [
            "\u001b[1;31mThe kernel failed to start as the Python Environment '.env' is no longer available. Consider selecting another kernel or refreshing the list of Python Environments."
          ]
        }
      ],
      "source": [
        "name = \"GCN\"\n",
        "names = [name]\n",
        "model_name_list = [f'{name}.results' for name in names]\n",
        "\n",
        "metric_managers = [load_results(fn) for fn in model_name_list]\n",
        "fig,axs = plot_training_comp(metric_managers, names, [\"aucroc\",])\n",
        "savefig(fig,'GCN_train_hist')"
      ]
    },
    {
      "cell_type": "code",
      "execution_count": null,
      "metadata": {
        "colab": {
          "base_uri": "https://localhost:8080/",
          "height": 256
        },
        "id": "e1vAdHNoSyuD",
        "outputId": "b899a086-baf5-4034-f7b1-43145d2b830f"
      },
      "outputs": [
        {
          "ename": "",
          "evalue": "",
          "output_type": "error",
          "traceback": [
            "\u001b[1;31mThe kernel failed to start as the Python Environment '.env' is no longer available. Consider selecting another kernel or refreshing the list of Python Environments."
          ]
        }
      ],
      "source": [
        "name = \"GCN_mix\"\n",
        "names = [name]\n",
        "model_name_list = [f'{name}.results' for name in names]\n",
        "\n",
        "metric_managers = [load_results(fn) for fn in model_name_list]\n",
        "fig,axs = plot_training_comp(metric_managers, names, [\"aucroc\",])\n",
        "savefig(fig,'GCN_mix_train_hist')"
      ]
    },
    {
      "cell_type": "code",
      "execution_count": null,
      "metadata": {
        "colab": {
          "base_uri": "https://localhost:8080/",
          "height": 429
        },
        "id": "PWb8HTAkSyuD",
        "outputId": "7816eff5-8b3d-40bc-fd11-3dd06130f9ca"
      },
      "outputs": [
        {
          "ename": "",
          "evalue": "",
          "output_type": "error",
          "traceback": [
            "\u001b[1;31mThe kernel failed to start as the Python Environment '.env' is no longer available. Consider selecting another kernel or refreshing the list of Python Environments."
          ]
        }
      ],
      "source": [
        "# Take names of the saved files\n",
        "model_name_list = [\"GCN.results\",\"GAT.results\",\"GATv2.results\"]\n",
        "#Assign names to plots\n",
        "names = [\"GCN\",\"GAT\",\"GATv2\",]\n",
        "\n",
        "#Iterate to load saved outputs and plots\n",
        "metric_managers = [load_results(fn) for fn in model_name_list]\n",
        "fig,axs = plot_timestep_comp(metric_managers, names, [\"aucroc\",\"loss\"],xlabel='Epochs')\n",
        "savefig(fig,'model_hist_comp_2')"
      ]
    },
    {
      "cell_type": "code",
      "execution_count": null,
      "metadata": {
        "colab": {
          "base_uri": "https://localhost:8080/",
          "height": 254
        },
        "id": "pYdG1xd6Rjk3",
        "outputId": "891a2231-9799-41b3-ed9d-e750d971a32a"
      },
      "outputs": [
        {
          "ename": "",
          "evalue": "",
          "output_type": "error",
          "traceback": [
            "\u001b[1;31mThe kernel failed to start as the Python Environment '.env' is no longer available. Consider selecting another kernel or refreshing the list of Python Environments."
          ]
        }
      ],
      "source": [
        "#Assign names to plots\n",
        "names = ['GAT','GATv2','GCN',]\n",
        "\n",
        "model_ctor = [GCN(42),\n",
        "              GAT(train_data[0].num_node_features, args['hidden_dim'], 1, args),\n",
        "              GATv2(train_data[0].num_node_features, args['hidden_dim'], 1, args)]\n",
        "metric_managers = []\n",
        "names = ['GCN','GAT','GATv2']\n",
        "\n",
        "for model,name in zip(model_ctor,names):\n",
        "    model.to(device)\n",
        "    model.load_state_dict(load_model_state_dict(name))\n",
        "    gnn = test(model.double(),train_data+test_data)\n",
        "    metric_managers.append(gnn)\n",
        "\n",
        "fig,axs = plot_timestep_comp(metric_managers, names, [\"aucroc\"],title=\"aucroc comparison\")\n",
        "\n",
        "for ax in axs:\n",
        "    ax.axvline(x=len(train_data)-1,color='black', linestyle='dotted', alpha=0.5)\n",
        "savefig(fig,'model_comp_2')"
      ]
    },
    {
      "attachments": {},
      "cell_type": "markdown",
      "metadata": {
        "id": "lxYtzen9q2TO"
      },
      "source": [
        "## Best metrics"
      ]
    },
    {
      "attachments": {},
      "cell_type": "markdown",
      "metadata": {
        "id": "NhGlj6o8Oe42"
      },
      "source": [
        "Next, we show you the best results of each model into a table."
      ]
    },
    {
      "cell_type": "code",
      "execution_count": null,
      "metadata": {
        "colab": {
          "base_uri": "https://localhost:8080/",
          "height": 331
        },
        "id": "9MTGPg77BKde",
        "outputId": "c5ee40c0-1d08-4b69-e39f-c3533feaa1f4"
      },
      "outputs": [
        {
          "ename": "",
          "evalue": "",
          "output_type": "error",
          "traceback": [
            "\u001b[1;31mThe kernel failed to start as the Python Environment '.env' is no longer available. Consider selecting another kernel or refreshing the list of Python Environments."
          ]
        }
      ],
      "source": [
        "# Take names of the saved files\n",
        "model_name_list = [\"GATv2.results\", \"GCN.results\",\"GAT.results\",\n",
        "                   \"GATv2_mix.results\", \"GCN_mix.results\",\"GAT_mix.results\",\n",
        "                   \"GATv2_recon.results\", \"GCN_recon.results\",\"GAT_recon.results\",]\n",
        "#Assign names to plots\n",
        "names = ['GAT','GAT_mix','GAT_recon','GATv2','GATv2_mix','GATv2_recon','GCN','GCN_mix','GCN_recon',]\n",
        "\n",
        "#Iterate to load saved outputs and plots\n",
        "mm_list0 = [load_results(fn) for fn in model_name_list]\n",
        "\n",
        "# Plot best results of each into a table\n",
        "d = {\"model_versions\":[],\n",
        "     \"aucroc\": [],\n",
        "     \"accuracy\": [],\n",
        "     \"f1micro\": [],\n",
        "     \"f1macro\": []}\n",
        "for c1, mm in enumerate(mm_list0):\n",
        "    d[\"model_versions\"].append(names[c1])\n",
        "    best = mm.get_best(\"aucroc\")\n",
        "    d[\"aucroc\"].append(best[\"aucroc\"])\n",
        "    d[\"accuracy\"].append(best[\"accuracy\"])\n",
        "    d[\"f1micro\"].append(best[\"f1micro\"])\n",
        "    d[\"f1macro\"].append(best[\"f1macro\"])\n",
        "\n",
        "df = pd.DataFrame(data=d)\n",
        "df.round(3).sort_values('aucroc',ascending=False).reset_index(drop=True)"
      ]
    }
  ],
  "metadata": {
    "accelerator": "GPU",
    "colab": {
      "gpuType": "T4",
      "provenance": []
    },
    "kernelspec": {
      "display_name": "Python 3",
      "name": "python3"
    },
    "language_info": {
      "codemirror_mode": {
        "name": "ipython",
        "version": 3
      },
      "file_extension": ".py",
      "mimetype": "text/x-python",
      "name": "python",
      "nbconvert_exporter": "python",
      "pygments_lexer": "ipython3",
      "version": "3.10.11"
    },
    "papermill": {
      "duration": 1465.987228,
      "end_time": "2021-02-28T17:20:32.623450",
      "environment_variables": {},
      "exception": null,
      "input_path": "__notebook__.ipynb",
      "output_path": "__notebook__.ipynb",
      "parameters": {},
      "start_time": "2021-02-28T16:56:06.636222",
      "version": "2.1.0"
    }
  },
  "nbformat": 4,
  "nbformat_minor": 0
}
